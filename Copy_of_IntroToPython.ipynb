{
  "cells": [
    {
      "cell_type": "markdown",
      "metadata": {
        "id": "view-in-github",
        "colab_type": "text"
      },
      "source": [
        "<a href=\"https://colab.research.google.com/github/schandrase/Comp-chem-course/blob/main/Copy_of_IntroToPython.ipynb\" target=\"_parent\"><img src=\"https://colab.research.google.com/assets/colab-badge.svg\" alt=\"Open In Colab\"/></a>"
      ]
    },
    {
      "cell_type": "markdown",
      "id": "fd9f5217-c57f-439d-82a4-346e78f4f8d4",
      "metadata": {
        "id": "fd9f5217-c57f-439d-82a4-346e78f4f8d4"
      },
      "source": [
        "<div class=\"alert alert-block alert-info\">\n",
        "    \n",
        "# Introduction to Python\n",
        "    \n",
        "</div>"
      ]
    },
    {
      "cell_type": "markdown",
      "id": "c48d3dbf-14b6-43d9-8eb4-528a67910b0c",
      "metadata": {
        "jp-MarkdownHeadingCollapsed": true,
        "tags": [],
        "id": "c48d3dbf-14b6-43d9-8eb4-528a67910b0c"
      },
      "source": [
        "## Python is great!"
      ]
    },
    {
      "cell_type": "markdown",
      "id": "4f93b2ec-bfc4-4db1-ba42-9aeecead9299",
      "metadata": {
        "id": "4f93b2ec-bfc4-4db1-ba42-9aeecead9299"
      },
      "source": [
        "An example [Fortran](https://en.wikipedia.org/wiki/Fortran) code to compute the factorial of 4.\n",
        "```fortran\n",
        "program factorial  \n",
        "implicit none  \n",
        "\n",
        "   ! define variables\n",
        "   integer :: nfact = 1   \n",
        "   \n",
        "   ! compute factorials   \n",
        "   do n = 1, 4\n",
        "      nfact = nfact * n \n",
        "      ! print values\n",
        "      print*,  n, \" \", nfact   \n",
        "   end do \n",
        "   \n",
        "end program factorial\n",
        "```"
      ]
    },
    {
      "cell_type": "markdown",
      "id": "6a5c0da5-6af8-4df6-99a1-0cd306d9ab57",
      "metadata": {
        "id": "6a5c0da5-6af8-4df6-99a1-0cd306d9ab57"
      },
      "source": [
        "Now with a recursive function in Python:"
      ]
    },
    {
      "cell_type": "code",
      "execution_count": null,
      "id": "825f3c77-2ed3-496a-a900-d872e5ea621a",
      "metadata": {
        "id": "825f3c77-2ed3-496a-a900-d872e5ea621a"
      },
      "outputs": [],
      "source": [
        "def factorial_recursive(n):\n",
        "     return 1 if (n==1 or n==0) else n * factorial_recursive(n - 1)"
      ]
    },
    {
      "cell_type": "markdown",
      "id": "1f6a573a-881d-4c06-8701-c2d6ae64cc4d",
      "metadata": {
        "id": "1f6a573a-881d-4c06-8701-c2d6ae64cc4d"
      },
      "source": [
        "Evaluate cells by pressing `Shift + Enter`"
      ]
    },
    {
      "cell_type": "code",
      "execution_count": null,
      "id": "2a4171cd-55e9-434d-9beb-f8ee3f5ab244",
      "metadata": {
        "id": "2a4171cd-55e9-434d-9beb-f8ee3f5ab244"
      },
      "outputs": [],
      "source": [
        "factorial_recursive(4)  - 4*3*2*1"
      ]
    },
    {
      "cell_type": "code",
      "source": [
        "varb = 5\n",
        "print(varb)\n"
      ],
      "metadata": {
        "colab": {
          "base_uri": "https://localhost:8080/"
        },
        "id": "Z4mjD6SQITvZ",
        "outputId": "5f8248b1-c083-413f-c577-cb4ad0750eba"
      },
      "id": "Z4mjD6SQITvZ",
      "execution_count": null,
      "outputs": [
        {
          "output_type": "stream",
          "name": "stdout",
          "text": [
            "5\n"
          ]
        }
      ]
    },
    {
      "cell_type": "code",
      "source": [
        "varb "
      ],
      "metadata": {
        "colab": {
          "base_uri": "https://localhost:8080/"
        },
        "id": "q8WzCprIIaXo",
        "outputId": "70255acb-8cd1-4c15-ebed-dbaca7e808dd"
      },
      "id": "q8WzCprIIaXo",
      "execution_count": null,
      "outputs": [
        {
          "output_type": "execute_result",
          "data": {
            "text/plain": [
              "5"
            ]
          },
          "metadata": {},
          "execution_count": 5
        }
      ]
    },
    {
      "cell_type": "code",
      "execution_count": null,
      "id": "fa8202a1-ed88-4709-8b05-52c602ad4d59",
      "metadata": {
        "id": "fa8202a1-ed88-4709-8b05-52c602ad4d59"
      },
      "outputs": [],
      "source": [
        "import math\n",
        "\n",
        "math.factorial(4)"
      ]
    },
    {
      "cell_type": "code",
      "execution_count": null,
      "id": "80f446d0-ccd6-440b-9d70-134f5ce54dcd",
      "metadata": {
        "id": "80f446d0-ccd6-440b-9d70-134f5ce54dcd"
      },
      "outputs": [],
      "source": [
        "%timeit -n 10_000 factorial_recursive(4)"
      ]
    },
    {
      "cell_type": "code",
      "execution_count": null,
      "id": "58ecaf31-8233-47cc-8e4c-64de9a7bbbbf",
      "metadata": {
        "id": "58ecaf31-8233-47cc-8e4c-64de9a7bbbbf"
      },
      "outputs": [],
      "source": [
        "%timeit -n 10_000 math.factorial(4)"
      ]
    },
    {
      "cell_type": "markdown",
      "id": "983b8449-be70-4026-9cf9-0b28bdeade8a",
      "metadata": {
        "id": "983b8449-be70-4026-9cf9-0b28bdeade8a"
      },
      "source": [
        "What makes Python great?\n",
        "\n",
        "- Dynamic language (no compiling)\n",
        "- Interactive (Jupyter and Colab notebooks)\n",
        "- Lots of packages\n",
        "- Great **community**"
      ]
    },
    {
      "cell_type": "code",
      "execution_count": null,
      "id": "6e580eda-0486-440e-9c2f-e47941edad39",
      "metadata": {
        "id": "6e580eda-0486-440e-9c2f-e47941edad39"
      },
      "outputs": [],
      "source": [
        "# Zen of Python\n",
        "import this"
      ]
    },
    {
      "cell_type": "markdown",
      "id": "7a52860c-47ea-4382-b794-be40c4584e45",
      "metadata": {
        "id": "7a52860c-47ea-4382-b794-be40c4584e45"
      },
      "source": [
        "The material for this lecture is collected primarily from: [Python Programming And Numerical Methods: A Guide For Engineers And Scientists](https://pythonnumericalmethods.berkeley.edu/notebooks/Index.html)\n",
        "and [Python Scripting for Computational Molecular Science](https://education.molssi.org/python_scripting_cms/)"
      ]
    },
    {
      "cell_type": "code",
      "source": [
        ""
      ],
      "metadata": {
        "id": "hxoMeGWoISSi"
      },
      "id": "hxoMeGWoISSi",
      "execution_count": null,
      "outputs": []
    },
    {
      "cell_type": "markdown",
      "id": "6b5af8eb-3efa-45c9-a527-74f941890c5f",
      "metadata": {
        "jp-MarkdownHeadingCollapsed": true,
        "tags": [],
        "id": "6b5af8eb-3efa-45c9-a527-74f941890c5f"
      },
      "source": [
        "## Basic Syntax"
      ]
    },
    {
      "cell_type": "markdown",
      "id": "a79f7c40-b405-43be-8b03-04b1a32e447f",
      "metadata": {
        "jp-MarkdownHeadingCollapsed": true,
        "tags": [],
        "id": "a79f7c40-b405-43be-8b03-04b1a32e447f"
      },
      "source": [
        "### Python as a calculator"
      ]
    },
    {
      "cell_type": "code",
      "execution_count": null,
      "id": "afd55390-0c8c-4e44-8ed9-90c0c2a17dbc",
      "metadata": {
        "id": "afd55390-0c8c-4e44-8ed9-90c0c2a17dbc"
      },
      "outputs": [],
      "source": [
        "7 + 11"
      ]
    },
    {
      "cell_type": "markdown",
      "id": "31804fd4-2910-468e-a6cc-f38b320f0d33",
      "metadata": {
        "id": "31804fd4-2910-468e-a6cc-f38b320f0d33"
      },
      "source": [
        "The usual order of operations is respected. You can also use parentheses to ensure a certain order."
      ]
    },
    {
      "cell_type": "code",
      "execution_count": null,
      "id": "7a322c56-2f3b-4825-a237-25ffbb5d483a",
      "metadata": {
        "id": "7a322c56-2f3b-4825-a237-25ffbb5d483a"
      },
      "outputs": [],
      "source": [
        "(3*4)/(2**2 + 4/2)"
      ]
    },
    {
      "cell_type": "markdown",
      "id": "094c942c-23f9-4ed2-b842-ca3a203a9e03",
      "metadata": {
        "id": "094c942c-23f9-4ed2-b842-ca3a203a9e03"
      },
      "source": [
        "You can use `_` to refer to the output of the previous computation."
      ]
    },
    {
      "cell_type": "code",
      "execution_count": null,
      "id": "a2db46e5-1d91-4e6d-b2c9-08e41e3e0778",
      "metadata": {
        "id": "a2db46e5-1d91-4e6d-b2c9-08e41e3e0778"
      },
      "outputs": [],
      "source": [
        "_*4"
      ]
    },
    {
      "cell_type": "markdown",
      "id": "f224ecd4-df82-408b-a6b8-eac982fecdef",
      "metadata": {
        "id": "f224ecd4-df82-408b-a6b8-eac982fecdef"
      },
      "source": [
        "Arithmetic with complex numbers uses `j` with a number in front, or the keyword `complex`."
      ]
    },
    {
      "cell_type": "code",
      "execution_count": null,
      "id": "e642114a-7c7c-43a4-bbcb-66e42bdf4f69",
      "metadata": {
        "id": "e642114a-7c7c-43a4-bbcb-66e42bdf4f69"
      },
      "outputs": [],
      "source": [
        "(3+4j)"
      ]
    },
    {
      "cell_type": "code",
      "execution_count": null,
      "id": "4cee4a15-f485-42e5-9f99-0a8ca565495a",
      "metadata": {
        "id": "4cee4a15-f485-42e5-9f99-0a8ca565495a"
      },
      "outputs": [],
      "source": [
        "complex(3,4)"
      ]
    },
    {
      "cell_type": "code",
      "execution_count": null,
      "id": "949c59b7-5b65-4630-9e4e-e835b350c2ed",
      "metadata": {
        "id": "949c59b7-5b65-4630-9e4e-e835b350c2ed"
      },
      "outputs": [],
      "source": [
        "abs(3+4j)"
      ]
    },
    {
      "cell_type": "markdown",
      "id": "d53740ff-bddc-4839-a96a-e96c5af6b6ed",
      "metadata": {
        "id": "d53740ff-bddc-4839-a96a-e96c5af6b6ed"
      },
      "source": [
        "Basic functions such as `sin`, `cos`, `exp`, `log`, `sqrt`, can be found in various packages. For example, the math package we introduced above. Try `TAB` completion (`Control+SPACE` in Colab) to see what's in a package."
      ]
    },
    {
      "cell_type": "code",
      "execution_count": null,
      "id": "5238b2d4-ac73-4645-920e-03d12648814a",
      "metadata": {
        "id": "5238b2d4-ac73-4645-920e-03d12648814a"
      },
      "outputs": [],
      "source": [
        "math."
      ]
    },
    {
      "cell_type": "markdown",
      "id": "4f65d3b7-9829-4f16-8be1-25e3e26f8eed",
      "metadata": {
        "id": "4f65d3b7-9829-4f16-8be1-25e3e26f8eed"
      },
      "source": [
        "There are different ways to get information about a certain function"
      ]
    },
    {
      "cell_type": "code",
      "execution_count": null,
      "id": "5841daea-69d2-4794-b86d-f0f7ab7bb550",
      "metadata": {
        "id": "5841daea-69d2-4794-b86d-f0f7ab7bb550"
      },
      "outputs": [],
      "source": [
        "math.factorial?"
      ]
    },
    {
      "cell_type": "code",
      "execution_count": null,
      "id": "c4e13ca9-c0b3-4e3e-b53b-1ec9b33f6b76",
      "metadata": {
        "id": "c4e13ca9-c0b3-4e3e-b53b-1ec9b33f6b76"
      },
      "outputs": [],
      "source": [
        "help(math.factorial)"
      ]
    },
    {
      "cell_type": "markdown",
      "id": "30f69686-a931-4d33-9fa0-7b420c973505",
      "metadata": {
        "jp-MarkdownHeadingCollapsed": true,
        "tags": [],
        "id": "30f69686-a931-4d33-9fa0-7b420c973505"
      },
      "source": [
        "### Variables and assignments"
      ]
    },
    {
      "cell_type": "markdown",
      "id": "ee3e2f5f-e7ce-4755-afbf-a6fa6ee9228d",
      "metadata": {
        "id": "ee3e2f5f-e7ce-4755-afbf-a6fa6ee9228d"
      },
      "source": [
        "The assignment operator, denoted by the `=` symbol, assigns values to variables. The line `var_a=3` takes the known value, 3, and assigns that value to the variable `var_a`.\n",
        "\n",
        "Don't confuse assignment with equality! Assignment is not symmetric, whereas equality is."
      ]
    },
    {
      "cell_type": "code",
      "execution_count": null,
      "id": "70f75e19-6eab-4f7e-a486-275f7845c73b",
      "metadata": {
        "id": "70f75e19-6eab-4f7e-a486-275f7845c73b"
      },
      "outputs": [],
      "source": [
        "var_a = 3\n",
        "var_b = 7"
      ]
    },
    {
      "cell_type": "markdown",
      "id": "df83a35d-f7f7-43cb-80e3-760d0e11f97c",
      "metadata": {
        "id": "df83a35d-f7f7-43cb-80e3-760d0e11f97c"
      },
      "source": [
        "You can do algebra with variables as usual"
      ]
    },
    {
      "cell_type": "code",
      "execution_count": null,
      "id": "c518574f-3c14-4360-b056-4d48e3d3d446",
      "metadata": {
        "id": "c518574f-3c14-4360-b056-4d48e3d3d446"
      },
      "outputs": [],
      "source": [
        "var_a + var_b"
      ]
    },
    {
      "cell_type": "markdown",
      "id": "5a141f0e-0c58-4bd6-a8a0-1bd395cd2cae",
      "metadata": {
        "id": "5a141f0e-0c58-4bd6-a8a0-1bd395cd2cae"
      },
      "source": [
        "or assign the result of a calculation to a new variable"
      ]
    },
    {
      "cell_type": "code",
      "execution_count": null,
      "id": "ec17fdd4-f089-46a7-ba89-76a8ceb08609",
      "metadata": {
        "id": "ec17fdd4-f089-46a7-ba89-76a8ceb08609"
      },
      "outputs": [],
      "source": [
        "var_sum = var_a + var_b\n",
        "var_sum"
      ]
    },
    {
      "cell_type": "markdown",
      "id": "fa3e2fe0-4fa9-4b61-92a0-a5128f2b36c5",
      "metadata": {
        "id": "fa3e2fe0-4fa9-4b61-92a0-a5128f2b36c5"
      },
      "source": [
        "Variables in Python come in many forms. Below are some examples."
      ]
    },
    {
      "cell_type": "code",
      "source": [
        "\"string\""
      ],
      "metadata": {
        "id": "Is5dHK5P6t30"
      },
      "id": "Is5dHK5P6t30",
      "execution_count": null,
      "outputs": []
    },
    {
      "cell_type": "code",
      "execution_count": null,
      "id": "db391770-5a92-476d-8145-b20f02455082",
      "metadata": {
        "id": "db391770-5a92-476d-8145-b20f02455082"
      },
      "outputs": [],
      "source": [
        "an_integer = 42 # Just an integer\n",
        "a_float = 0.1 # A non-integer number, up to a fixed precision\n",
        "a_boolean = True # A value that can be True or False\n",
        "a_string = '''just enclose text between two 's, or two \"s, or do what we did for this string''' # Text\n",
        "none_of_the_above = None # The absence of any actual value or variable type"
      ]
    },
    {
      "cell_type": "markdown",
      "id": "b8bcf5b0-2465-4a35-a291-155f403139f6",
      "metadata": {
        "id": "b8bcf5b0-2465-4a35-a291-155f403139f6"
      },
      "source": [
        "Mathematical equality is ==  "
      ]
    },
    {
      "cell_type": "code",
      "execution_count": null,
      "id": "46987bc6-fae3-4a68-9dab-1e0d82a1f671",
      "metadata": {
        "id": "46987bc6-fae3-4a68-9dab-1e0d82a1f671"
      },
      "outputs": [],
      "source": [
        "var_sum == var_a + var_b"
      ]
    },
    {
      "cell_type": "code",
      "execution_count": null,
      "id": "9746a684-0983-4692-936f-e08e3fbe8667",
      "metadata": {
        "id": "9746a684-0983-4692-936f-e08e3fbe8667"
      },
      "outputs": [],
      "source": [
        "var_a == var_b"
      ]
    },
    {
      "cell_type": "markdown",
      "id": "a0ee44d4-dc8c-4f8c-b29e-a59586e702a4",
      "metadata": {
        "id": "a0ee44d4-dc8c-4f8c-b29e-a59586e702a4"
      },
      "source": [
        "We can assign the value of one variable to another"
      ]
    },
    {
      "cell_type": "code",
      "execution_count": null,
      "id": "81f1fe5f-a0e9-4a1f-bf6f-98a845a445c7",
      "metadata": {
        "id": "81f1fe5f-a0e9-4a1f-bf6f-98a845a445c7"
      },
      "outputs": [],
      "source": [
        "var_a = var_b\n",
        "print(\"Variable a is: \",var_a, \"\\nVariable b is: \", var_b)"
      ]
    },
    {
      "cell_type": "markdown",
      "id": "e244d7ec-a83d-4864-a387-92d4271c599e",
      "metadata": {
        "id": "e244d7ec-a83d-4864-a387-92d4271c599e"
      },
      "source": [
        "We can assign multiple variables in one line"
      ]
    },
    {
      "cell_type": "code",
      "execution_count": null,
      "id": "872756cd-8def-41cc-873d-dfe8696cbe46",
      "metadata": {
        "id": "872756cd-8def-41cc-873d-dfe8696cbe46"
      },
      "outputs": [],
      "source": [
        "var_a, var_b = 3, 7"
      ]
    },
    {
      "cell_type": "code",
      "execution_count": null,
      "id": "13a00ffc-07f6-4298-b16b-14027002b5f3",
      "metadata": {
        "id": "13a00ffc-07f6-4298-b16b-14027002b5f3"
      },
      "outputs": [],
      "source": [
        "var_a + var_b"
      ]
    },
    {
      "cell_type": "markdown",
      "id": "b8b33aee-d53f-4cd6-83e5-4816fe5e491e",
      "metadata": {
        "id": "b8b33aee-d53f-4cd6-83e5-4816fe5e491e"
      },
      "source": [
        "You can clear a variable using `del`"
      ]
    },
    {
      "cell_type": "code",
      "execution_count": null,
      "id": "804121ee-aa7b-43e3-87d4-776fbe226d79",
      "metadata": {
        "id": "804121ee-aa7b-43e3-87d4-776fbe226d79"
      },
      "outputs": [],
      "source": [
        "del var_a"
      ]
    },
    {
      "cell_type": "code",
      "execution_count": null,
      "id": "0c680f77-e2a8-48b2-bafc-e96b8044fb8b",
      "metadata": {
        "id": "0c680f77-e2a8-48b2-bafc-e96b8044fb8b"
      },
      "outputs": [],
      "source": [
        "var_a"
      ]
    },
    {
      "cell_type": "markdown",
      "id": "518c51b3-d826-4eb5-b9cf-6049d2254c0a",
      "metadata": {
        "id": "518c51b3-d826-4eb5-b9cf-6049d2254c0a"
      },
      "source": [
        "One more difference between mathematical equality and computational assignment: the expression below doesn't make sense mathematically, but is common in computation"
      ]
    },
    {
      "cell_type": "code",
      "execution_count": null,
      "id": "ae62f574-4e30-4c3b-a4c7-dd6c6a381aaa",
      "metadata": {
        "id": "ae62f574-4e30-4c3b-a4c7-dd6c6a381aaa"
      },
      "outputs": [],
      "source": [
        "var_b = var_b + 1"
      ]
    },
    {
      "cell_type": "markdown",
      "id": "0917934d-6d39-4089-84a0-41140c783d3f",
      "metadata": {
        "id": "0917934d-6d39-4089-84a0-41140c783d3f"
      },
      "source": [
        "It's so common that there is an short form for the increment"
      ]
    },
    {
      "cell_type": "code",
      "execution_count": null,
      "id": "fa93d832-4939-4999-8b84-b23bcf8a7fc8",
      "metadata": {
        "id": "fa93d832-4939-4999-8b84-b23bcf8a7fc8"
      },
      "outputs": [],
      "source": [
        "var_b += 1"
      ]
    },
    {
      "cell_type": "code",
      "source": [
        "var_b"
      ],
      "metadata": {
        "id": "PIgQq4jo7S0x"
      },
      "id": "PIgQq4jo7S0x",
      "execution_count": null,
      "outputs": []
    },
    {
      "cell_type": "markdown",
      "id": "a2e1448e-29dd-4f79-a5f7-d6d845197ab4",
      "metadata": {
        "id": "a2e1448e-29dd-4f79-a5f7-d6d845197ab4"
      },
      "source": [
        "List all the variables in this notebook"
      ]
    },
    {
      "cell_type": "code",
      "execution_count": null,
      "id": "7258b306-e13d-4b81-9f11-ba1d4f6f6d97",
      "metadata": {
        "id": "7258b306-e13d-4b81-9f11-ba1d4f6f6d97"
      },
      "outputs": [],
      "source": [
        "%whos"
      ]
    },
    {
      "cell_type": "markdown",
      "id": "cce3b46e-af7c-4644-868a-d79ae4b5abd5",
      "metadata": {
        "jp-MarkdownHeadingCollapsed": true,
        "tags": [],
        "id": "cce3b46e-af7c-4644-868a-d79ae4b5abd5"
      },
      "source": [
        "### Lists, tuples, sets, and dictionaries"
      ]
    },
    {
      "cell_type": "markdown",
      "id": "fcf83b02-8043-4b71-be36-921b0b9fab02",
      "metadata": {
        "id": "fcf83b02-8043-4b71-be36-921b0b9fab02"
      },
      "source": [
        "**Lists** are groups of objects (values, variables, even functions). We construct them using square brackets [] with objects separated by commas."
      ]
    },
    {
      "cell_type": "code",
      "execution_count": null,
      "id": "e788f68c-f7d7-4550-9246-10f3643cdd42",
      "metadata": {
        "id": "e788f68c-f7d7-4550-9246-10f3643cdd42",
        "colab": {
          "base_uri": "https://localhost:8080/"
        },
        "outputId": "43e96fa9-ab28-4cbf-de1a-33cc32d6955a"
      },
      "outputs": [
        {
          "output_type": "execute_result",
          "data": {
            "text/plain": [
              "list"
            ]
          },
          "metadata": {},
          "execution_count": 40
        }
      ],
      "source": [
        "values = [7, 11, 13, 17, 19, 23, 29]\n",
        "type(values)"
      ]
    },
    {
      "cell_type": "code",
      "source": [
        "varb = True\n",
        "type(varb)"
      ],
      "metadata": {
        "colab": {
          "base_uri": "https://localhost:8080/"
        },
        "id": "A9TZ59aSKD6B",
        "outputId": "f0f1dbeb-5907-46b1-87b9-cb9dd933ef5f"
      },
      "id": "A9TZ59aSKD6B",
      "execution_count": null,
      "outputs": [
        {
          "output_type": "execute_result",
          "data": {
            "text/plain": [
              "bool"
            ]
          },
          "metadata": {},
          "execution_count": 14
        }
      ]
    },
    {
      "cell_type": "markdown",
      "id": "8d6437c0-f085-4d3e-aafd-13e7fba73d4f",
      "metadata": {
        "id": "8d6437c0-f085-4d3e-aafd-13e7fba73d4f"
      },
      "source": [
        "**Counting starts at 0.**"
      ]
    },
    {
      "cell_type": "code",
      "source": [
        "values[2]"
      ],
      "metadata": {
        "colab": {
          "base_uri": "https://localhost:8080/"
        },
        "id": "x4iaaKk3LBlY",
        "outputId": "8b11bcf7-fed4-4286-a755-71d11cfc0c15"
      },
      "id": "x4iaaKk3LBlY",
      "execution_count": null,
      "outputs": [
        {
          "output_type": "execute_result",
          "data": {
            "text/plain": [
              "13"
            ]
          },
          "metadata": {},
          "execution_count": 18
        }
      ]
    },
    {
      "cell_type": "code",
      "execution_count": null,
      "id": "752def10-796e-48a6-bc5b-ae3506d20f92",
      "metadata": {
        "id": "752def10-796e-48a6-bc5b-ae3506d20f92",
        "colab": {
          "base_uri": "https://localhost:8080/"
        },
        "outputId": "2a9caf91-46b2-496f-823f-d5533b105e69"
      },
      "outputs": [
        {
          "output_type": "execute_result",
          "data": {
            "text/plain": [
              "(7, 11, 13, 17, 19, 23, 29)"
            ]
          },
          "metadata": {},
          "execution_count": 16
        }
      ],
      "source": [
        "values[0], values[1], values[2], values[3], values[4], values[5], values[6]"
      ]
    },
    {
      "cell_type": "markdown",
      "id": "043693dd-66da-42bf-9215-e1688ddaf935",
      "metadata": {
        "id": "043693dd-66da-42bf-9215-e1688ddaf935"
      },
      "source": [
        "There are built-in functions for handling lists."
      ]
    },
    {
      "cell_type": "code",
      "execution_count": null,
      "id": "eccc2988-6939-4508-ba2f-974b4ed4f662",
      "metadata": {
        "id": "eccc2988-6939-4508-ba2f-974b4ed4f662",
        "colab": {
          "base_uri": "https://localhost:8080/"
        },
        "outputId": "bd8566bc-8ab4-4238-e9b2-07a7036b76c3"
      },
      "outputs": [
        {
          "output_type": "execute_result",
          "data": {
            "text/plain": [
              "7"
            ]
          },
          "metadata": {},
          "execution_count": 19
        }
      ],
      "source": [
        "len(values)"
      ]
    },
    {
      "cell_type": "code",
      "execution_count": null,
      "id": "1c5ec7dc-ae42-4fad-915e-c5b2aa11667f",
      "metadata": {
        "id": "1c5ec7dc-ae42-4fad-915e-c5b2aa11667f",
        "colab": {
          "base_uri": "https://localhost:8080/",
          "height": 183
        },
        "outputId": "e6ea4092-a1ea-4370-f072-e08c1c9df28e"
      },
      "outputs": [
        {
          "output_type": "error",
          "ename": "IndexError",
          "evalue": "ignored",
          "traceback": [
            "\u001b[0;31m---------------------------------------------------------------------------\u001b[0m",
            "\u001b[0;31mIndexError\u001b[0m                                Traceback (most recent call last)",
            "\u001b[0;32m<ipython-input-22-1388d2dff1a7>\u001b[0m in \u001b[0;36m<module>\u001b[0;34m\u001b[0m\n\u001b[1;32m      1\u001b[0m \u001b[0;31m# This doesn't work\u001b[0m\u001b[0;34m\u001b[0m\u001b[0;34m\u001b[0m\u001b[0;34m\u001b[0m\u001b[0m\n\u001b[0;32m----> 2\u001b[0;31m \u001b[0mvalues\u001b[0m\u001b[0;34m[\u001b[0m\u001b[0;36m7\u001b[0m\u001b[0;34m]\u001b[0m\u001b[0;34m\u001b[0m\u001b[0;34m\u001b[0m\u001b[0m\n\u001b[0m",
            "\u001b[0;31mIndexError\u001b[0m: tuple index out of range"
          ]
        }
      ],
      "source": [
        "# This doesn't work\n",
        "values[7]"
      ]
    },
    {
      "cell_type": "markdown",
      "id": "1c0e5041-37ae-4c7d-8eaa-afea50698b7e",
      "metadata": {
        "id": "1c0e5041-37ae-4c7d-8eaa-afea50698b7e"
      },
      "source": [
        "You can access list elements in reverse. For example, the last element of the list is"
      ]
    },
    {
      "cell_type": "code",
      "execution_count": null,
      "id": "5a824680-e07a-43f6-814f-ee9989c0280e",
      "metadata": {
        "id": "5a824680-e07a-43f6-814f-ee9989c0280e",
        "colab": {
          "base_uri": "https://localhost:8080/"
        },
        "outputId": "8d0cf862-ab32-4d1d-9fab-de329ecc55bb"
      },
      "outputs": [
        {
          "output_type": "execute_result",
          "data": {
            "text/plain": [
              "23"
            ]
          },
          "metadata": {},
          "execution_count": 25
        }
      ],
      "source": [
        "values[-2]"
      ]
    },
    {
      "cell_type": "markdown",
      "id": "490d72ef-43a6-480a-8934-25fa80eeb7cf",
      "metadata": {
        "id": "490d72ef-43a6-480a-8934-25fa80eeb7cf"
      },
      "source": [
        "Sometimes you want to access portions of lists. These are called slices"
      ]
    },
    {
      "cell_type": "code",
      "execution_count": null,
      "id": "8ccd732d-9e78-4796-8fcc-504bb26a66bd",
      "metadata": {
        "id": "8ccd732d-9e78-4796-8fcc-504bb26a66bd",
        "colab": {
          "base_uri": "https://localhost:8080/"
        },
        "outputId": "3ad7cb88-b6db-4a30-989f-d7114309cb29"
      },
      "outputs": [
        {
          "output_type": "execute_result",
          "data": {
            "text/plain": [
              "(7, 11, 13, 17)"
            ]
          },
          "metadata": {},
          "execution_count": 26
        }
      ],
      "source": [
        "values[0:4]"
      ]
    },
    {
      "cell_type": "markdown",
      "id": "c2247044-d13e-470e-9dbb-a1179dfad48a",
      "metadata": {
        "id": "c2247044-d13e-470e-9dbb-a1179dfad48a"
      },
      "source": [
        "When you specify the last element for the slice, it goes up to but not including that element of the list."
      ]
    },
    {
      "cell_type": "markdown",
      "id": "92076e72-ac63-46cc-b92d-74bc91b85288",
      "metadata": {
        "id": "92076e72-ac63-46cc-b92d-74bc91b85288"
      },
      "source": [
        "If you do not include a start index, the slice automatically starts at the first element. If you do not include an end index, the slice automatically goes to the last element."
      ]
    },
    {
      "cell_type": "code",
      "execution_count": null,
      "id": "af17f1bb-094f-4316-b8fe-a869339abdf9",
      "metadata": {
        "id": "af17f1bb-094f-4316-b8fe-a869339abdf9",
        "colab": {
          "base_uri": "https://localhost:8080/"
        },
        "outputId": "1d671d9d-37e2-4907-d6bb-ce0afb162326"
      },
      "outputs": [
        {
          "output_type": "execute_result",
          "data": {
            "text/plain": [
              "((11, 13, 17, 19, 23, 29), (19, 23, 29))"
            ]
          },
          "metadata": {},
          "execution_count": 28
        }
      ],
      "source": [
        "values[1:7], values[4:]"
      ]
    },
    {
      "cell_type": "markdown",
      "id": "6ef8f01b-0fb8-4ebf-ae6f-33f22d34113d",
      "metadata": {
        "id": "6ef8f01b-0fb8-4ebf-ae6f-33f22d34113d"
      },
      "source": [
        "Lists can include objects of different types. Most common data types in Python are strings, integers, and floats. You can put these different types together in a list."
      ]
    },
    {
      "cell_type": "code",
      "execution_count": null,
      "id": "eedffce2-c5aa-4798-a9fd-47cf098c50aa",
      "metadata": {
        "id": "eedffce2-c5aa-4798-a9fd-47cf098c50aa"
      },
      "outputs": [],
      "source": [
        "mixed_list = ['one', 1, 1e6, [1,1], 1==1, None]"
      ]
    },
    {
      "cell_type": "code",
      "source": [
        "type(mixed_list[2])"
      ],
      "metadata": {
        "id": "db5DM98U8Qau",
        "colab": {
          "base_uri": "https://localhost:8080/"
        },
        "outputId": "cb7671d5-0a6f-41fd-c557-69e0a6ff568f"
      },
      "id": "db5DM98U8Qau",
      "execution_count": null,
      "outputs": [
        {
          "output_type": "execute_result",
          "data": {
            "text/plain": [
              "float"
            ]
          },
          "metadata": {},
          "execution_count": 32
        }
      ]
    },
    {
      "cell_type": "code",
      "execution_count": null,
      "id": "2491550d-e455-491e-83c2-176fc1031495",
      "metadata": {
        "id": "2491550d-e455-491e-83c2-176fc1031495",
        "colab": {
          "base_uri": "https://localhost:8080/"
        },
        "outputId": "64a4a3fd-e333-47eb-c26d-1617babc3755"
      },
      "outputs": [
        {
          "output_type": "stream",
          "name": "stdout",
          "text": [
            "str\n",
            "int\n",
            "float\n",
            "list\n",
            "bool\n",
            "NoneType\n"
          ]
        }
      ],
      "source": [
        "for item in mixed_list:\n",
        "    print(str(type(item))[8:-2])"
      ]
    },
    {
      "cell_type": "markdown",
      "id": "e51b1320-e4af-4266-80f3-049c05c2faf6",
      "metadata": {
        "id": "e51b1320-e4af-4266-80f3-049c05c2faf6"
      },
      "source": [
        "You can join lists together by \"adding\" them"
      ]
    },
    {
      "cell_type": "code",
      "execution_count": null,
      "id": "a0636ba8-9604-4cde-b7ca-5939c0edc118",
      "metadata": {
        "id": "a0636ba8-9604-4cde-b7ca-5939c0edc118",
        "colab": {
          "base_uri": "https://localhost:8080/"
        },
        "outputId": "08aa3437-fc67-43ab-9704-baa7e50527bc"
      },
      "outputs": [
        {
          "output_type": "execute_result",
          "data": {
            "text/plain": [
              "[7, 11, 13, 17, 19, 23, 29, 'one', 1, 1000000.0, [1, 1], True, None]"
            ]
          },
          "metadata": {},
          "execution_count": 41
        }
      ],
      "source": [
        "values + mixed_list"
      ]
    },
    {
      "cell_type": "markdown",
      "id": "01515ad6-700e-4aca-adf7-1bc6455f102b",
      "metadata": {
        "id": "01515ad6-700e-4aca-adf7-1bc6455f102b"
      },
      "source": [
        "Addition or multiplication doesn't work the way you might expect for lists of numbers"
      ]
    },
    {
      "cell_type": "code",
      "execution_count": null,
      "id": "2f4729b0-6344-445a-94bb-dbbe87b0d370",
      "metadata": {
        "id": "2f4729b0-6344-445a-94bb-dbbe87b0d370",
        "colab": {
          "base_uri": "https://localhost:8080/"
        },
        "outputId": "83e3589a-81fb-4848-d375-1420e1895911"
      },
      "outputs": [
        {
          "output_type": "execute_result",
          "data": {
            "text/plain": [
              "[7, 11, 13, 17, 19, 23, 29, 7, 11, 13, 17, 19, 23, 29]"
            ]
          },
          "metadata": {},
          "execution_count": 43
        }
      ],
      "source": [
        "values + values"
      ]
    },
    {
      "cell_type": "code",
      "execution_count": null,
      "id": "ea7efa57-c419-4d56-9b66-c04df2d2421c",
      "metadata": {
        "id": "ea7efa57-c419-4d56-9b66-c04df2d2421c",
        "colab": {
          "base_uri": "https://localhost:8080/"
        },
        "outputId": "7a5b95db-80c9-48cb-cb31-46a0a94d8299"
      },
      "outputs": [
        {
          "output_type": "execute_result",
          "data": {
            "text/plain": [
              "[7,\n",
              " 11,\n",
              " 13,\n",
              " 17,\n",
              " 19,\n",
              " 23,\n",
              " 29,\n",
              " 7,\n",
              " 11,\n",
              " 13,\n",
              " 17,\n",
              " 19,\n",
              " 23,\n",
              " 29,\n",
              " 7,\n",
              " 11,\n",
              " 13,\n",
              " 17,\n",
              " 19,\n",
              " 23,\n",
              " 29]"
            ]
          },
          "metadata": {},
          "execution_count": 42
        }
      ],
      "source": [
        "3*values"
      ]
    },
    {
      "cell_type": "markdown",
      "id": "edf43aff-155b-4a5b-a69a-a03502830317",
      "metadata": {
        "id": "edf43aff-155b-4a5b-a69a-a03502830317"
      },
      "source": [
        "Strings are similar (but not equal) to lists of characters"
      ]
    },
    {
      "cell_type": "code",
      "execution_count": null,
      "id": "60b4ca7a-f2a9-4cb7-ae99-e1d623374e64",
      "metadata": {
        "id": "60b4ca7a-f2a9-4cb7-ae99-e1d623374e64"
      },
      "outputs": [],
      "source": [
        "w = 'Hello World!'"
      ]
    },
    {
      "cell_type": "markdown",
      "id": "8886c993-01cc-4f8d-b5be-1280b62e2da8",
      "metadata": {
        "id": "8886c993-01cc-4f8d-b5be-1280b62e2da8"
      },
      "source": [
        "You can slice them similar to lists"
      ]
    },
    {
      "cell_type": "code",
      "execution_count": null,
      "id": "264f94cb-01ec-4ccd-ad65-52bdaff58d6e",
      "metadata": {
        "id": "264f94cb-01ec-4ccd-ad65-52bdaff58d6e",
        "colab": {
          "base_uri": "https://localhost:8080/",
          "height": 35
        },
        "outputId": "68fb00aa-6914-438f-b746-d7eef0e08c86"
      },
      "outputs": [
        {
          "output_type": "execute_result",
          "data": {
            "text/plain": [
              "'Hello'"
            ],
            "application/vnd.google.colaboratory.intrinsic+json": {
              "type": "string"
            }
          },
          "metadata": {},
          "execution_count": 45
        }
      ],
      "source": [
        "w[:5]"
      ]
    },
    {
      "cell_type": "markdown",
      "id": "c9d5ee84-7559-44f3-ac69-aeb988e70096",
      "metadata": {
        "id": "c9d5ee84-7559-44f3-ac69-aeb988e70096"
      },
      "source": [
        "But strings are not lists. There are various built-in methods for handling strings."
      ]
    },
    {
      "cell_type": "code",
      "source": [
        "\n",
        "w."
      ],
      "metadata": {
        "id": "R4GM6ttW8xYv"
      },
      "id": "R4GM6ttW8xYv",
      "execution_count": null,
      "outputs": []
    },
    {
      "cell_type": "code",
      "execution_count": null,
      "id": "ffb5b5ea-ab21-4574-8c6a-0a98d088582e",
      "metadata": {
        "id": "ffb5b5ea-ab21-4574-8c6a-0a98d088582e",
        "colab": {
          "base_uri": "https://localhost:8080/"
        },
        "outputId": "29cc044c-c7d2-47ef-d104-320aeaf1eedf"
      },
      "outputs": [
        {
          "output_type": "execute_result",
          "data": {
            "text/plain": [
              "('Hello', 'HELLO WORLD!')"
            ]
          },
          "metadata": {},
          "execution_count": 46
        }
      ],
      "source": [
        "w.split()[0], w.upper()"
      ]
    },
    {
      "cell_type": "markdown",
      "id": "f4798191-6ed3-48fc-8f94-6994e7ab9cb6",
      "metadata": {
        "id": "f4798191-6ed3-48fc-8f94-6994e7ab9cb6"
      },
      "source": [
        "Another data structure similar to lists is the **tuple**."
      ]
    },
    {
      "cell_type": "code",
      "execution_count": null,
      "id": "248f983e-f532-48b1-b8d6-b20493fceb1f",
      "metadata": {
        "id": "248f983e-f532-48b1-b8d6-b20493fceb1f",
        "colab": {
          "base_uri": "https://localhost:8080/",
          "height": 35
        },
        "outputId": "7e2e2beb-9ebc-4975-dcb1-232cfa8213bf"
      },
      "outputs": [
        {
          "output_type": "execute_result",
          "data": {
            "text/plain": [
              "'one'"
            ],
            "application/vnd.google.colaboratory.intrinsic+json": {
              "type": "string"
            }
          },
          "metadata": {},
          "execution_count": 47
        }
      ],
      "source": [
        "mixed_tuple = ('one', 1, 1e6, [1,1], 1==1, None)\n",
        "mixed_tuple[0]"
      ]
    },
    {
      "cell_type": "markdown",
      "id": "2bde2c11-8755-404a-8c4a-af8147eb3836",
      "metadata": {
        "id": "2bde2c11-8755-404a-8c4a-af8147eb3836"
      },
      "source": [
        "A major difference between the list and the tuple is that list items can be changed"
      ]
    },
    {
      "cell_type": "code",
      "execution_count": null,
      "id": "2afb5240-8d74-4b0d-89a6-2ce6e1a25f34",
      "metadata": {
        "id": "2afb5240-8d74-4b0d-89a6-2ce6e1a25f34",
        "colab": {
          "base_uri": "https://localhost:8080/"
        },
        "outputId": "3d1a7252-154b-4ac9-db4d-10aa08899605"
      },
      "outputs": [
        {
          "output_type": "stream",
          "name": "stdout",
          "text": [
            "['apple', 1, 1000000.0, [1, 1], True, None]\n"
          ]
        }
      ],
      "source": [
        "mixed_list[0] = 'apple'\n",
        "print(mixed_list)"
      ]
    },
    {
      "cell_type": "markdown",
      "id": "948b1385-a4ce-412e-95ea-77dbfeee7593",
      "metadata": {
        "id": "948b1385-a4ce-412e-95ea-77dbfeee7593"
      },
      "source": [
        "whereas tuple elements cannot (tuples are \"immutable\")"
      ]
    },
    {
      "cell_type": "code",
      "execution_count": null,
      "id": "19ca31a8-243e-476f-8040-de840ae01a3f",
      "metadata": {
        "id": "19ca31a8-243e-476f-8040-de840ae01a3f",
        "colab": {
          "base_uri": "https://localhost:8080/",
          "height": 165
        },
        "outputId": "fff32199-9d77-4662-fecc-3b2a772417c5"
      },
      "outputs": [
        {
          "output_type": "error",
          "ename": "TypeError",
          "evalue": "ignored",
          "traceback": [
            "\u001b[0;31m---------------------------------------------------------------------------\u001b[0m",
            "\u001b[0;31mTypeError\u001b[0m                                 Traceback (most recent call last)",
            "\u001b[0;32m<ipython-input-49-499eadd467d5>\u001b[0m in \u001b[0;36m<module>\u001b[0;34m\u001b[0m\n\u001b[0;32m----> 1\u001b[0;31m \u001b[0mmixed_tuple\u001b[0m\u001b[0;34m[\u001b[0m\u001b[0;36m0\u001b[0m\u001b[0;34m]\u001b[0m \u001b[0;34m=\u001b[0m \u001b[0;34m'apple'\u001b[0m\u001b[0;34m\u001b[0m\u001b[0;34m\u001b[0m\u001b[0m\n\u001b[0m",
            "\u001b[0;31mTypeError\u001b[0m: 'tuple' object does not support item assignment"
          ]
        }
      ],
      "source": [
        "mixed_tuple[0] = 'apple'"
      ]
    },
    {
      "cell_type": "markdown",
      "id": "36cc32b0-ad45-4b69-95d3-16d4fe05dbfa",
      "metadata": {
        "id": "36cc32b0-ad45-4b69-95d3-16d4fe05dbfa"
      },
      "source": [
        "Also, we can add an element to the end of a list, which we cannot do with tuples."
      ]
    },
    {
      "cell_type": "code",
      "execution_count": null,
      "id": "e6b9b710-0fa3-4836-9ed4-bdae92ce91e1",
      "metadata": {
        "id": "e6b9b710-0fa3-4836-9ed4-bdae92ce91e1",
        "colab": {
          "base_uri": "https://localhost:8080/"
        },
        "outputId": "2daeb064-21a5-40db-ae22-df7ee3e7ce85"
      },
      "outputs": [
        {
          "output_type": "stream",
          "name": "stdout",
          "text": [
            "['apple', 1, 1000000.0, [1, 1], True, None, 3.14]\n"
          ]
        }
      ],
      "source": [
        "mixed_list.append( 3.14 )\n",
        "print(mixed_list)"
      ]
    },
    {
      "cell_type": "markdown",
      "id": "f497d1d3-cc66-45c3-a6e5-d0c379b59cbe",
      "metadata": {
        "id": "f497d1d3-cc66-45c3-a6e5-d0c379b59cbe"
      },
      "source": [
        "**Sets** are unordered collections with no duplicate elements. They support mathematical operations like union, intersection, and complement. It is defined by using a pair of braces, and its elements are separated by commas"
      ]
    },
    {
      "cell_type": "code",
      "execution_count": null,
      "id": "659c905c-a0b3-4bd4-bfaa-5ebd562d59a3",
      "metadata": {
        "id": "659c905c-a0b3-4bd4-bfaa-5ebd562d59a3"
      },
      "outputs": [],
      "source": [
        "my_set = {3, 3, 2, 3, 1, 4, 5, 6, 4, 2}"
      ]
    },
    {
      "cell_type": "code",
      "source": [
        "my_set[0]"
      ],
      "metadata": {
        "id": "KsNisOvn9z2g",
        "colab": {
          "base_uri": "https://localhost:8080/",
          "height": 165
        },
        "outputId": "26cb2850-79d8-47dd-a164-e53438ff4b86"
      },
      "id": "KsNisOvn9z2g",
      "execution_count": null,
      "outputs": [
        {
          "output_type": "error",
          "ename": "TypeError",
          "evalue": "ignored",
          "traceback": [
            "\u001b[0;31m---------------------------------------------------------------------------\u001b[0m",
            "\u001b[0;31mTypeError\u001b[0m                                 Traceback (most recent call last)",
            "\u001b[0;32m<ipython-input-52-158c424478a1>\u001b[0m in \u001b[0;36m<module>\u001b[0;34m\u001b[0m\n\u001b[0;32m----> 1\u001b[0;31m \u001b[0mmy_set\u001b[0m\u001b[0;34m[\u001b[0m\u001b[0;36m0\u001b[0m\u001b[0;34m]\u001b[0m\u001b[0;34m\u001b[0m\u001b[0;34m\u001b[0m\u001b[0m\n\u001b[0m",
            "\u001b[0;31mTypeError\u001b[0m: 'set' object is not subscriptable"
          ]
        }
      ]
    },
    {
      "cell_type": "markdown",
      "id": "14d6ff7e-a2ba-48ba-a129-163a0f6bc8a2",
      "metadata": {
        "id": "14d6ff7e-a2ba-48ba-a129-163a0f6bc8a2"
      },
      "source": [
        "One quick usage of this is to find out the unique elements in a string, list, or tuple."
      ]
    },
    {
      "cell_type": "code",
      "execution_count": null,
      "id": "bc114a8f-4cb4-422b-b49d-4868ea159914",
      "metadata": {
        "id": "bc114a8f-4cb4-422b-b49d-4868ea159914",
        "colab": {
          "base_uri": "https://localhost:8080/"
        },
        "outputId": "787e6637-9384-438f-ca5a-ec319dbba82b"
      },
      "outputs": [
        {
          "output_type": "execute_result",
          "data": {
            "text/plain": [
              "{1, 2, 3}"
            ]
          },
          "metadata": {},
          "execution_count": 53
        }
      ],
      "source": [
        "set([1, 2, 2, 3, 2, 1, 2])"
      ]
    },
    {
      "cell_type": "code",
      "execution_count": null,
      "id": "3f5ab576-f5e9-4383-b341-280adbd3b7cf",
      "metadata": {
        "id": "3f5ab576-f5e9-4383-b341-280adbd3b7cf",
        "colab": {
          "base_uri": "https://localhost:8080/"
        },
        "outputId": "11644a20-c081-4b5a-efb4-a7f3c7c427fc"
      },
      "outputs": [
        {
          "output_type": "execute_result",
          "data": {
            "text/plain": [
              "{'B', 'a', 'n'}"
            ]
          },
          "metadata": {},
          "execution_count": 54
        }
      ],
      "source": [
        "set('Banana')"
      ]
    },
    {
      "cell_type": "markdown",
      "id": "0831a6e0-ec70-441e-8447-7d0ce3574aae",
      "metadata": {
        "id": "0831a6e0-ec70-441e-8447-7d0ce3574aae"
      },
      "source": [
        "Another useful data structure is the **dictionary**. Instead of using a sequence of numbers to index the elements (such as lists or tuples), dictionaries are indexed by keys, which could be a string, number or even a tuple. Values are labeled by a unique key and can be any data type.\n",
        "\n",
        "So a dictionary consists of key-value pairs, and each key maps to a corresponding value. "
      ]
    },
    {
      "cell_type": "code",
      "execution_count": null,
      "id": "fe167e7e-225e-46a2-b39c-1d24d00b6e25",
      "metadata": {
        "id": "fe167e7e-225e-46a2-b39c-1d24d00b6e25"
      },
      "outputs": [],
      "source": [
        "dict_1 = {34:3, 100:4, 2:2}"
      ]
    },
    {
      "cell_type": "code",
      "source": [
        "dict_1[34]"
      ],
      "metadata": {
        "id": "KqI6AbPI9mA8",
        "colab": {
          "base_uri": "https://localhost:8080/"
        },
        "outputId": "6cc289af-33e5-4f2c-efe3-ea462b325185"
      },
      "id": "KqI6AbPI9mA8",
      "execution_count": null,
      "outputs": [
        {
          "output_type": "execute_result",
          "data": {
            "text/plain": [
              "3"
            ]
          },
          "metadata": {},
          "execution_count": 62
        }
      ]
    },
    {
      "cell_type": "markdown",
      "id": "7e237013-a77e-4a67-ba9d-627f3d3a865c",
      "metadata": {
        "id": "7e237013-a77e-4a67-ba9d-627f3d3a865c"
      },
      "source": [
        "Within a dictionary, elements are stored without order, therefore, you can not access a dictionary based on a sequence of index numbers. To get access to a dictionary, we need to use the key of the element."
      ]
    },
    {
      "cell_type": "code",
      "execution_count": null,
      "id": "1b9adb4c-5963-4eb7-ba76-2cffd518fdcf",
      "metadata": {
        "id": "1b9adb4c-5963-4eb7-ba76-2cffd518fdcf",
        "colab": {
          "base_uri": "https://localhost:8080/",
          "height": 165
        },
        "outputId": "29260730-882d-488e-ac8c-bfdbea6e194f"
      },
      "outputs": [
        {
          "output_type": "error",
          "ename": "KeyError",
          "evalue": "ignored",
          "traceback": [
            "\u001b[0;31m---------------------------------------------------------------------------\u001b[0m",
            "\u001b[0;31mKeyError\u001b[0m                                  Traceback (most recent call last)",
            "\u001b[0;32m<ipython-input-66-93202157aa4a>\u001b[0m in \u001b[0;36m<module>\u001b[0;34m\u001b[0m\n\u001b[0;32m----> 1\u001b[0;31m \u001b[0mdict_1\u001b[0m\u001b[0;34m[\u001b[0m\u001b[0;34m'apple'\u001b[0m\u001b[0;34m]\u001b[0m\u001b[0;34m\u001b[0m\u001b[0;34m\u001b[0m\u001b[0m\n\u001b[0m",
            "\u001b[0;31mKeyError\u001b[0m: 'apple'"
          ]
        }
      ],
      "source": [
        "dict_1['apple']"
      ]
    },
    {
      "cell_type": "markdown",
      "id": "c42b6c9d-ea00-4608-afac-ef1d8459dbf9",
      "metadata": {
        "id": "c42b6c9d-ea00-4608-afac-ef1d8459dbf9"
      },
      "source": [
        "Keys and values can be listed by corresponding methods"
      ]
    },
    {
      "cell_type": "code",
      "execution_count": null,
      "id": "f2479d5f-2b69-4c3e-a8f0-26c1b208488b",
      "metadata": {
        "id": "f2479d5f-2b69-4c3e-a8f0-26c1b208488b",
        "colab": {
          "base_uri": "https://localhost:8080/"
        },
        "outputId": "cbfd04bb-35d5-4e48-e2bf-bcf704a4bba3"
      },
      "outputs": [
        {
          "output_type": "execute_result",
          "data": {
            "text/plain": [
              "dict_keys([34, 100, 2])"
            ]
          },
          "metadata": {},
          "execution_count": 67
        }
      ],
      "source": [
        "dict_1.keys()"
      ]
    },
    {
      "cell_type": "code",
      "execution_count": null,
      "id": "7e0aee12-4321-4c7d-8953-34749715c4b4",
      "metadata": {
        "id": "7e0aee12-4321-4c7d-8953-34749715c4b4",
        "colab": {
          "base_uri": "https://localhost:8080/"
        },
        "outputId": "6f955006-dc7c-42b3-ed8f-577c8130df18"
      },
      "outputs": [
        {
          "output_type": "execute_result",
          "data": {
            "text/plain": [
              "dict_values([3, 4, 2])"
            ]
          },
          "metadata": {},
          "execution_count": 68
        }
      ],
      "source": [
        "dict_1.values()"
      ]
    },
    {
      "cell_type": "markdown",
      "id": "e80f03f6-6253-4290-8eb2-2ff6387aec87",
      "metadata": {
        "id": "e80f03f6-6253-4290-8eb2-2ff6387aec87"
      },
      "source": [
        "Keys and values can have many different data types"
      ]
    },
    {
      "cell_type": "code",
      "execution_count": null,
      "id": "43afac1e-30d5-41ca-a012-7c9964637519",
      "metadata": {
        "id": "43afac1e-30d5-41ca-a012-7c9964637519"
      },
      "outputs": [],
      "source": [
        "a_dict = { 1:'This is the value, for the key 1', 'This is the key for a value 1':1, False:':)', (0,1):256 }"
      ]
    },
    {
      "cell_type": "code",
      "execution_count": null,
      "id": "ecd14474-2762-4bdb-8703-1fb0f93f5172",
      "metadata": {
        "id": "ecd14474-2762-4bdb-8703-1fb0f93f5172",
        "colab": {
          "base_uri": "https://localhost:8080/",
          "height": 35
        },
        "outputId": "67b557ef-3dc8-4948-d353-f8eb9f3208c3"
      },
      "outputs": [
        {
          "output_type": "execute_result",
          "data": {
            "text/plain": [
              "'This is the value, for the key 1'"
            ],
            "application/vnd.google.colaboratory.intrinsic+json": {
              "type": "string"
            }
          },
          "metadata": {},
          "execution_count": 73
        }
      ],
      "source": [
        "a_dict[1]"
      ]
    },
    {
      "cell_type": "markdown",
      "id": "64131deb-826a-478f-b5f6-248211053aea",
      "metadata": {
        "id": "64131deb-826a-478f-b5f6-248211053aea"
      },
      "source": [
        "New key/value pairs can be added by just supplying the new value for the new key"
      ]
    },
    {
      "cell_type": "code",
      "execution_count": null,
      "id": "56ccfd35-44eb-4ba4-ab5c-ed93b484f926",
      "metadata": {
        "id": "56ccfd35-44eb-4ba4-ab5c-ed93b484f926",
        "colab": {
          "base_uri": "https://localhost:8080/"
        },
        "outputId": "7d27e28e-c5d0-48f3-c880-2969122756e9"
      },
      "outputs": [
        {
          "output_type": "execute_result",
          "data": {
            "text/plain": [
              "{1: 'This is the value, for the key 1',\n",
              " 'This is the key for a value 1': 1,\n",
              " False: ':)',\n",
              " (0, 1): 256,\n",
              " 'new key': 'new_value'}"
            ]
          },
          "metadata": {},
          "execution_count": 74
        }
      ],
      "source": [
        "a_dict['new key'] = 'new_value'\n",
        "a_dict"
      ]
    },
    {
      "cell_type": "markdown",
      "id": "129d5c08-ce17-4ef8-b980-55e02d2b5cea",
      "metadata": {
        "jp-MarkdownHeadingCollapsed": true,
        "tags": [],
        "id": "129d5c08-ce17-4ef8-b980-55e02d2b5cea"
      },
      "source": [
        "### Loops"
      ]
    },
    {
      "cell_type": "markdown",
      "id": "06bd9dd6-418e-41d9-9206-267d84cce0f9",
      "metadata": {
        "id": "06bd9dd6-418e-41d9-9206-267d84cce0f9"
      },
      "source": [
        "The power of coding comes from **loops** (repetitions) and **conditionals** (choices). There are different ways to construct loops. The most common way is to construct a for loop:\n",
        "\n",
        "```python\n",
        "for variable in list:\n",
        "    do things using variable\n",
        "```\n",
        "- Watch for the colon `:` at the end of a `for` statement.\n",
        "- Watch for the indentation on the second line. \n",
        "\n",
        "Indentation is *very* important in Python. There is no separate statement that closes code blocks such as loops and conditionals. It's all done via indentation. Indentation is with 4 spaces, but advanced editors that understand Python syntax will take care of that for you. "
      ]
    },
    {
      "cell_type": "code",
      "source": [
        "\n",
        "values"
      ],
      "metadata": {
        "id": "nIhesLZ2-8hq"
      },
      "id": "nIhesLZ2-8hq",
      "execution_count": null,
      "outputs": []
    },
    {
      "cell_type": "code",
      "execution_count": null,
      "id": "49dd79b3-e0d5-4007-9b99-38a58b09b6dd",
      "metadata": {
        "id": "49dd79b3-e0d5-4007-9b99-38a58b09b6dd"
      },
      "outputs": [],
      "source": [
        "value_squared = []\n",
        "for value in values:\n",
        "    value_squared.append(value**2)\n",
        "\n",
        "print(value_squared)\n",
        "# try this with different indentations"
      ]
    },
    {
      "cell_type": "markdown",
      "id": "3770abfb-49fe-4f06-a11a-791392bfbcc8",
      "metadata": {
        "id": "3770abfb-49fe-4f06-a11a-791392bfbcc8"
      },
      "source": [
        "To loop over a range of numbers, the syntax is"
      ]
    },
    {
      "cell_type": "code",
      "execution_count": null,
      "id": "68e03c35-b4cd-457b-a441-0765863498c8",
      "metadata": {
        "id": "68e03c35-b4cd-457b-a441-0765863498c8"
      },
      "outputs": [],
      "source": [
        "n = 5\n",
        "for j in range(n+1):\n",
        "    print(j)"
      ]
    },
    {
      "cell_type": "markdown",
      "id": "59ad10fa-983a-4d0d-8a16-1f8363a5c63f",
      "metadata": {
        "id": "59ad10fa-983a-4d0d-8a16-1f8363a5c63f"
      },
      "source": [
        "Note that it starts at 0 (by default), and ends at n-1 for range(n).\n",
        "\n",
        "What is the sum of every integer from 1 to 10?"
      ]
    },
    {
      "cell_type": "code",
      "execution_count": null,
      "id": "56c23242-4d06-4b5d-80a6-fe261e6cbf05",
      "metadata": {
        "id": "56c23242-4d06-4b5d-80a6-fe261e6cbf05"
      },
      "outputs": [],
      "source": [
        "n = 1\n",
        "for i in range(1, 11):\n",
        "    n *= i\n",
        "    \n",
        "print(n)"
      ]
    },
    {
      "cell_type": "markdown",
      "id": "c32a5c48-ae68-48ba-8e4f-070f17253ec8",
      "metadata": {
        "id": "c32a5c48-ae68-48ba-8e4f-070f17253ec8"
      },
      "source": [
        "List comprehensions allow sequences to be created from other sequence with very compact syntax\n",
        "\n",
        "For example, below we append the square numbers up to 25 in a list."
      ]
    },
    {
      "cell_type": "code",
      "execution_count": null,
      "id": "b4f412ed-c6dc-4e4b-a1a6-8aa481e785f3",
      "metadata": {
        "id": "b4f412ed-c6dc-4e4b-a1a6-8aa481e785f3"
      },
      "outputs": [],
      "source": [
        "y = []\n",
        "for i in range(1, 6):\n",
        "    y.append(i**2)\n",
        "y"
      ]
    },
    {
      "cell_type": "markdown",
      "id": "53b26f51-2bed-4911-9562-6bdb3d490b41",
      "metadata": {
        "id": "53b26f51-2bed-4911-9562-6bdb3d490b41"
      },
      "source": [
        "With list comprehension, we can write this as"
      ]
    },
    {
      "cell_type": "code",
      "execution_count": null,
      "id": "3fdac57d-878c-45fa-80f7-9235347e4618",
      "metadata": {
        "id": "3fdac57d-878c-45fa-80f7-9235347e4618"
      },
      "outputs": [],
      "source": [
        "y = [i**2 for i in range(1, 6)]\n",
        "y"
      ]
    },
    {
      "cell_type": "markdown",
      "id": "35aa4aed-5f7c-4ddc-8b29-1f33e177154c",
      "metadata": {
        "jp-MarkdownHeadingCollapsed": true,
        "tags": [],
        "id": "35aa4aed-5f7c-4ddc-8b29-1f33e177154c"
      },
      "source": [
        "### Conditional statements"
      ]
    },
    {
      "cell_type": "markdown",
      "id": "ff4ef5c6-3a32-46fb-bd72-61c424fce64c",
      "metadata": {
        "id": "ff4ef5c6-3a32-46fb-bd72-61c424fce64c"
      },
      "source": [
        "A conditional statement is a code construct that executes blocks of code only if certain conditions are met. These conditions are represented as logical expressions.\n",
        "\n",
        "```python\n",
        "if logical expression:\n",
        "    code block\n",
        "```\n",
        "\n",
        "The word `if` is a keyword. When Python sees an if-statement, it will determine if the associated logical expression is true. If it is true, then the code in code block will be executed. If it is false, then the code in the if-statement will not be executed. The way to read this is “If logical expression is true then do code block.”"
      ]
    },
    {
      "cell_type": "code",
      "execution_count": null,
      "id": "496cc686-7a41-43a0-8102-f299d73ed254",
      "metadata": {
        "id": "496cc686-7a41-43a0-8102-f299d73ed254"
      },
      "outputs": [],
      "source": [
        "mixed_list"
      ]
    },
    {
      "cell_type": "code",
      "execution_count": null,
      "id": "5be30e75-b8c1-4354-ac81-15fd25ab56c5",
      "metadata": {
        "id": "5be30e75-b8c1-4354-ac81-15fd25ab56c5"
      },
      "outputs": [],
      "source": [
        "mixed_list.append('banana')"
      ]
    },
    {
      "cell_type": "code",
      "execution_count": null,
      "id": "4828a556-7211-4bda-a421-54c9839e7dac",
      "metadata": {
        "id": "4828a556-7211-4bda-a421-54c9839e7dac"
      },
      "outputs": [],
      "source": [
        "if 'apple' in mixed_list or 'banana' in mixed_list:\n",
        "    print('We have a fruit!')\n",
        "else:\n",
        "    print('There is no apple')"
      ]
    },
    {
      "cell_type": "markdown",
      "id": "42bb3d92-2919-45ae-88d5-1ca22f978180",
      "metadata": {
        "id": "42bb3d92-2919-45ae-88d5-1ca22f978180"
      },
      "source": [
        "What will be the value of y after the code is executed?"
      ]
    },
    {
      "cell_type": "code",
      "execution_count": null,
      "id": "8c55af07-876f-4056-ac35-b3a155b47e7a",
      "metadata": {
        "id": "8c55af07-876f-4056-ac35-b3a155b47e7a"
      },
      "outputs": [],
      "source": [
        "x = 3\n",
        "if x > 1:\n",
        "    y = 2\n",
        "elif x > 2:\n",
        "    y = 4\n",
        "else:\n",
        "    y = 0\n",
        "print(y)"
      ]
    },
    {
      "cell_type": "markdown",
      "id": "7953f985-2bbc-457c-bb1c-ccfff7506d5e",
      "metadata": {
        "id": "7953f985-2bbc-457c-bb1c-ccfff7506d5e"
      },
      "source": [
        "You can use if statements in a concise way (ternary operators)"
      ]
    },
    {
      "cell_type": "code",
      "execution_count": null,
      "id": "b59c8b4e-426b-4a04-b308-94e92239f9e0",
      "metadata": {
        "id": "b59c8b4e-426b-4a04-b308-94e92239f9e0"
      },
      "outputs": [],
      "source": [
        "is_student = True\n",
        "person = 'student' if is_student else 'not student'\n",
        "print(person)"
      ]
    },
    {
      "cell_type": "markdown",
      "id": "ef3a8961-7c4b-4ae1-9750-b89ad37d5dd4",
      "metadata": {
        "id": "ef3a8961-7c4b-4ae1-9750-b89ad37d5dd4"
      },
      "source": [
        "This is equivalent to "
      ]
    },
    {
      "cell_type": "code",
      "execution_count": null,
      "id": "ef65ef94-167a-44ac-b967-547f517254b7",
      "metadata": {
        "id": "ef65ef94-167a-44ac-b967-547f517254b7"
      },
      "outputs": [],
      "source": [
        "is_student = True\n",
        "if is_student:\n",
        "    person = 'student'\n",
        "else:\n",
        "    person = 'not student'\n",
        "print(person)"
      ]
    },
    {
      "cell_type": "markdown",
      "id": "c3e99215-db81-41e2-9b00-2885b41cfb35",
      "metadata": {
        "jp-MarkdownHeadingCollapsed": true,
        "tags": [],
        "id": "c3e99215-db81-41e2-9b00-2885b41cfb35"
      },
      "source": [
        "## What is a function"
      ]
    },
    {
      "cell_type": "markdown",
      "id": "8a9f7f12-c104-4615-8da4-48b668d0c08a",
      "metadata": {
        "id": "8a9f7f12-c104-4615-8da4-48b668d0c08a"
      },
      "source": [
        "In mathematics, functions are maps. They assign an element from their domain (inputs) to exactly one element in their range (outputs). In programming, a function is a sequence of instructions that performs a specific task. Functions break up our code into smaller, more easily understandable statements, and also allow code to be modular.\n",
        "\n",
        "For example, the `math.sin` function in Python is a set of tasks (i.e., mathematical operations) that computes an approximation for $\\sin x$. Rather than having to retype or copy these instructions every time you want to use the sin function, it is useful to store this sequence of instruction as a function that you can call over and over again.\n",
        "\n",
        "In general, each function should perform only one computational task.\n",
        "\n",
        "Here's the pseudocode for a function definition:\n",
        "```python\n",
        "def function_name(parameters):\n",
        "    \"\"\" documentation\"\"\"\n",
        "    ** function body code **\n",
        "    return output\n",
        "```\n",
        "\n",
        "- Keyword `def`,\n",
        "- Function name,\n",
        "- Arguments,\n",
        "- A colon to mark the end of the function header.\n",
        "- Documentation to describe what the function does,\n",
        "- Statements at the same indentation level (4 spaces, tab)\n",
        "- Return statement for the value\n",
        "\n",
        "Python has about 70 built-in functions (such as len or print). A Python package such as numpy includes hundreds of functions.\n",
        "\n",
        "You can and should define your own functions."
      ]
    },
    {
      "cell_type": "code",
      "execution_count": null,
      "id": "7fd8c8a3-ff05-4aa5-9fe6-c2f18523e2f7",
      "metadata": {
        "id": "7fd8c8a3-ff05-4aa5-9fe6-c2f18523e2f7"
      },
      "outputs": [],
      "source": [
        "type(len)"
      ]
    },
    {
      "cell_type": "code",
      "execution_count": null,
      "id": "834da1d0-aab4-456b-a9fb-a12566b1d36f",
      "metadata": {
        "id": "834da1d0-aab4-456b-a9fb-a12566b1d36f"
      },
      "outputs": [],
      "source": [
        "len?"
      ]
    },
    {
      "cell_type": "code",
      "execution_count": null,
      "id": "098d409b-89d2-4903-9555-2747c5da43c5",
      "metadata": {
        "id": "098d409b-89d2-4903-9555-2747c5da43c5"
      },
      "outputs": [],
      "source": [
        "def greet(name):\n",
        "    print(\"Hello, \" + name + \". Good morning!\")"
      ]
    },
    {
      "cell_type": "code",
      "execution_count": null,
      "id": "414ba957-cf1b-4430-8f9a-71d1b260415b",
      "metadata": {
        "id": "414ba957-cf1b-4430-8f9a-71d1b260415b"
      },
      "outputs": [],
      "source": [
        "greet('1')"
      ]
    },
    {
      "cell_type": "code",
      "execution_count": null,
      "id": "9669d6bd-ae80-426c-9f01-511dd7ed3b76",
      "metadata": {
        "id": "9669d6bd-ae80-426c-9f01-511dd7ed3b76"
      },
      "outputs": [],
      "source": [
        "help(greet)"
      ]
    },
    {
      "cell_type": "markdown",
      "id": "d840ac92-6f59-4dbc-80b1-ac71d38f02be",
      "metadata": {
        "id": "d840ac92-6f59-4dbc-80b1-ac71d38f02be"
      },
      "source": [
        "Include some documentation in your functions. \n",
        "\n",
        "```python\n",
        "def greet(name):\n",
        "    \"\"\"This function greets a person by name\"\"\"\n",
        "    print(\"Hello, \" + name + \". Good morning!\")\n",
        "```"
      ]
    },
    {
      "cell_type": "code",
      "execution_count": null,
      "id": "08eb7161-8beb-4ad3-a82a-3ea548c2eced",
      "metadata": {
        "id": "08eb7161-8beb-4ad3-a82a-3ea548c2eced"
      },
      "outputs": [],
      "source": [
        "def greet(name):\n",
        "    \"\"\"\n",
        "    This function greets a person by name\n",
        "\n",
        "    Args:\n",
        "        name (str): The name of person that is greeted.\n",
        "\n",
        "    Returns:\n",
        "        str: Personalized greeting that includes name\n",
        "    \"\"\"\n",
        "    print(\"Hello, \" + name + \". Good morning!\")"
      ]
    },
    {
      "cell_type": "code",
      "execution_count": null,
      "id": "4c76a096-dadf-4851-a74c-2f980dd39b7e",
      "metadata": {
        "id": "4c76a096-dadf-4851-a74c-2f980dd39b7e"
      },
      "outputs": [],
      "source": [
        "help(greet)"
      ]
    },
    {
      "cell_type": "markdown",
      "id": "a81fd631-b59b-4455-abcb-ae186b9e1868",
      "metadata": {
        "id": "a81fd631-b59b-4455-abcb-ae186b9e1868"
      },
      "source": [
        "Define a function that adds three numbers"
      ]
    },
    {
      "cell_type": "code",
      "execution_count": null,
      "id": "7054c8fb-bf4d-47ea-b628-c2332be608b7",
      "metadata": {
        "id": "7054c8fb-bf4d-47ea-b628-c2332be608b7"
      },
      "outputs": [],
      "source": [
        "def triple_adder(a, b, c):\n",
        "    \"\"\"\n",
        "    This function sums up 3 numbers\n",
        "\n",
        "    Args:\n",
        "        a, b, c: Three numbers to be added\n",
        "\n",
        "    Returns:\n",
        "        out: The result of a+b+c\n",
        "    \"\"\"\n",
        "    # Sum the inputs together\n",
        "    out = a + b + c\n",
        "    \n",
        "    return out"
      ]
    },
    {
      "cell_type": "code",
      "execution_count": null,
      "id": "1891e32e-0919-481f-935d-504aeeee9eaf",
      "metadata": {
        "id": "1891e32e-0919-481f-935d-504aeeee9eaf"
      },
      "outputs": [],
      "source": [
        "triple_adder(1,2,3)"
      ]
    },
    {
      "cell_type": "markdown",
      "id": "9219d959-bcc4-49bd-8eff-654d57f3ff37",
      "metadata": {
        "id": "9219d959-bcc4-49bd-8eff-654d57f3ff37"
      },
      "source": [
        "The code doesn't check for the type of input and will try to add whatever we give"
      ]
    },
    {
      "cell_type": "code",
      "execution_count": null,
      "id": "d2d75829-3523-4e95-980b-67a76010aae9",
      "metadata": {
        "id": "d2d75829-3523-4e95-980b-67a76010aae9"
      },
      "outputs": [],
      "source": [
        "triple_adder(1,1.2,4+1j)"
      ]
    },
    {
      "cell_type": "code",
      "execution_count": null,
      "id": "94fefcd3-6857-4cbf-8931-7a3e8741c267",
      "metadata": {
        "id": "94fefcd3-6857-4cbf-8931-7a3e8741c267"
      },
      "outputs": [],
      "source": [
        "out=10"
      ]
    },
    {
      "cell_type": "code",
      "execution_count": null,
      "id": "ae69df40-2ce2-4506-9067-f294e93422a4",
      "metadata": {
        "id": "ae69df40-2ce2-4506-9067-f294e93422a4"
      },
      "outputs": [],
      "source": [
        "triple_adder('Python ', 'is ', 'great!')"
      ]
    },
    {
      "cell_type": "markdown",
      "id": "fe0ad010-12b1-4f77-89d6-6b7d6e422727",
      "metadata": {
        "id": "fe0ad010-12b1-4f77-89d6-6b7d6e422727"
      },
      "source": [
        "Parameters and variables defined inside a function are not visible from outside the function. Hence, they have a local scope.\n",
        "\n",
        "A function does not remember the value of a variable from its previous calls.\n",
        "\n",
        "Here is an example to illustrate the scope of a variable inside a function."
      ]
    },
    {
      "cell_type": "code",
      "execution_count": null,
      "id": "cc9076d3-8f36-4688-8757-950ecd4e6851",
      "metadata": {
        "id": "cc9076d3-8f36-4688-8757-950ecd4e6851"
      },
      "outputs": [],
      "source": [
        "# Note the indentation\n",
        "def some_func():\n",
        "    x = 10\n",
        "    print(\"Value inside function:\",x)\n",
        "\n",
        "x = 20\n",
        "some_func()\n",
        "print(\"Value outside function:\",x)"
      ]
    },
    {
      "cell_type": "markdown",
      "id": "44f74db4-7d06-4bda-9b05-6a4bee0ccbec",
      "metadata": {
        "id": "44f74db4-7d06-4bda-9b05-6a4bee0ccbec"
      },
      "source": [
        "You can change the values of variables outside the function using the `global` keyword."
      ]
    },
    {
      "cell_type": "code",
      "execution_count": null,
      "id": "37d48636-f186-4b07-ae51-f462e360aef0",
      "metadata": {
        "id": "37d48636-f186-4b07-ae51-f462e360aef0"
      },
      "outputs": [],
      "source": [
        "meaning_of_life = 42\n",
        "\n",
        "print(f'The meaning of life is {meaning_of_life}.')\n",
        "\n",
        "def my_world():\n",
        "    global meaning_of_life\n",
        "    print(f'Within my world, meaning of life was {meaning_of_life}.')\n",
        "    meaning_of_life = 1\n",
        "    print(f'But the meaning of life changed to {meaning_of_life}.')\n",
        "\n",
        "my_world()\n",
        "print(f'Outside my world, meaning of life is now {meaning_of_life}.')"
      ]
    },
    {
      "cell_type": "markdown",
      "id": "7a880aaa-5ffb-4939-83ff-b43a2267124f",
      "metadata": {
        "jp-MarkdownHeadingCollapsed": true,
        "tags": [],
        "id": "7a880aaa-5ffb-4939-83ff-b43a2267124f"
      },
      "source": [
        "## Useful packages"
      ]
    },
    {
      "cell_type": "markdown",
      "id": "cf7ff35d-a8a3-44e7-a8b1-edfa9046c11d",
      "metadata": {
        "id": "cf7ff35d-a8a3-44e7-a8b1-edfa9046c11d"
      },
      "source": [
        "[xkcd](https://xkcd.com) captured the power of Python packages in 2007."
      ]
    },
    {
      "cell_type": "code",
      "execution_count": null,
      "id": "11cc658e-df19-4df4-b2e0-5fe1b09ef899",
      "metadata": {
        "id": "11cc658e-df19-4df4-b2e0-5fe1b09ef899"
      },
      "outputs": [],
      "source": [
        "from IPython import display\n",
        "display.Image(\"https://imgs.xkcd.com/comics/python.png\")"
      ]
    },
    {
      "cell_type": "markdown",
      "id": "d74e4fb8-6855-4070-be83-cca60b141329",
      "metadata": {
        "id": "d74e4fb8-6855-4070-be83-cca60b141329"
      },
      "source": [
        "Importing packages is done with a line such as"
      ]
    },
    {
      "cell_type": "code",
      "execution_count": null,
      "id": "f6e58575-f2d0-4f4c-8ce6-075b058e61ab",
      "metadata": {
        "id": "f6e58575-f2d0-4f4c-8ce6-075b058e61ab"
      },
      "outputs": [],
      "source": [
        "import antigravity"
      ]
    },
    {
      "cell_type": "markdown",
      "id": "a55dce36-aeb6-4a2e-b175-4b0583e666dc",
      "metadata": {
        "id": "a55dce36-aeb6-4a2e-b175-4b0583e666dc"
      },
      "source": [
        "A useful package to generate random numbers or to make random choices (for statistics and sampling) is `random`."
      ]
    },
    {
      "cell_type": "code",
      "execution_count": null,
      "id": "220c1cce-5af0-4866-9a79-3fe2b155f9ad",
      "metadata": {
        "id": "220c1cce-5af0-4866-9a79-3fe2b155f9ad"
      },
      "outputs": [],
      "source": [
        "import random"
      ]
    },
    {
      "cell_type": "code",
      "source": [
        "mixed_list"
      ],
      "metadata": {
        "id": "VS2fcoADDhlx"
      },
      "id": "VS2fcoADDhlx",
      "execution_count": null,
      "outputs": []
    },
    {
      "cell_type": "code",
      "execution_count": null,
      "id": "8c260763-f146-4f8c-a160-d48ac54aad65",
      "metadata": {
        "id": "8c260763-f146-4f8c-a160-d48ac54aad65"
      },
      "outputs": [],
      "source": [
        "for j in range(3):\n",
        "    print('* Results from sample',j+1)\n",
        "    print('\\n    Random number from 0 to 1:', random.random() )\n",
        "    print(\"\\n    Random choice from our list:\", random.choice( mixed_list ) )\n",
        "    print('\\n')"
      ]
    },
    {
      "cell_type": "markdown",
      "id": "3c4ff129-3ac1-41c6-9932-05088570ee61",
      "metadata": {
        "id": "3c4ff129-3ac1-41c6-9932-05088570ee61"
      },
      "source": [
        "There are hundreds of thousands of Python packages. Some of the most useful ones for data science and machine learning are numpy, scipy, pandas, matplotlib, scikit-learn, and pytorch. Today, we will just focus on numpy number crunching and matplotlib for visualization."
      ]
    },
    {
      "cell_type": "code",
      "source": [
        "random.choices?"
      ],
      "metadata": {
        "id": "ZU0xle0ZF2Hz"
      },
      "id": "ZU0xle0ZF2Hz",
      "execution_count": null,
      "outputs": []
    },
    {
      "cell_type": "markdown",
      "id": "c3c05913-a0f0-4285-9a78-62bb9f70efbd",
      "metadata": {
        "jp-MarkdownHeadingCollapsed": true,
        "tags": [],
        "id": "c3c05913-a0f0-4285-9a78-62bb9f70efbd"
      },
      "source": [
        "### NumPy"
      ]
    },
    {
      "cell_type": "markdown",
      "id": "c9180925-4ff7-4385-abb9-ef91f5a57b04",
      "metadata": {
        "id": "c9180925-4ff7-4385-abb9-ef91f5a57b04"
      },
      "source": [
        "Numpy comes with powerful features\n",
        "- a powerful N-dimensional array object\n",
        "- sophisticated (broadcasting) functions\n",
        "- tools for integrating C/C++ and Fortran code\n",
        "- useful linear algebra, Fourier transform, and random number capabilities"
      ]
    },
    {
      "cell_type": "code",
      "execution_count": null,
      "id": "55b331b6-a9d3-4b85-bb48-cca4083e73d6",
      "metadata": {
        "id": "55b331b6-a9d3-4b85-bb48-cca4083e73d6"
      },
      "outputs": [],
      "source": [
        "import numpy as np"
      ]
    },
    {
      "cell_type": "markdown",
      "id": "9042a457-db1d-4229-95fd-278a386dad0d",
      "metadata": {
        "id": "9042a457-db1d-4229-95fd-278a386dad0d"
      },
      "source": [
        "Numpy is important for mathematics (trigonometry, linear algebra, calculus, statistics, optimization, and more).\n",
        "\n",
        "It's at the core of scientific computing in Python. It provides arrays, matrices, and fast routines such as additions, dot products, or sorting. \n",
        "\n",
        "At the core of the package is the **n-dimensional array**. Numpy arrays have **fixed sizes and datatypes** (as opposed to lists). "
      ]
    },
    {
      "cell_type": "code",
      "source": [
        "\n",
        "np."
      ],
      "metadata": {
        "id": "l6ZWvo-dHmBG"
      },
      "id": "l6ZWvo-dHmBG",
      "execution_count": null,
      "outputs": []
    },
    {
      "cell_type": "code",
      "execution_count": null,
      "id": "698feaa0-4282-44ba-82d8-1ed0e3b372a5",
      "metadata": {
        "id": "698feaa0-4282-44ba-82d8-1ed0e3b372a5"
      },
      "outputs": [],
      "source": [
        "# One dimensional array (a vector)\n",
        "x = np.array([1, 2, 3]) \n",
        "\n",
        "# Two dimensional array (a matrix)\n",
        "y = np.array([[1.1, 2j, 3],[4, 5, 6]])"
      ]
    },
    {
      "cell_type": "code",
      "source": [
        "2*x"
      ],
      "metadata": {
        "id": "kHbcCALJHyBm"
      },
      "id": "kHbcCALJHyBm",
      "execution_count": null,
      "outputs": []
    },
    {
      "cell_type": "markdown",
      "id": "ac1df89d-de5d-4ed2-a9ac-ded0f73befe8",
      "metadata": {
        "id": "ac1df89d-de5d-4ed2-a9ac-ded0f73befe8"
      },
      "source": [
        "These arrays can be represented in mathematical formalism as\n",
        "$$ x = \\begin{pmatrix} 1 & 2 & 3 \\end{pmatrix}$$\n",
        "and \n",
        "$$ y = \\begin{pmatrix}\n",
        "1 & 2 & 3\\\\\n",
        "4 & 5 & 6\n",
        "\\end{pmatrix} $$"
      ]
    },
    {
      "cell_type": "code",
      "source": [
        "\n",
        "x."
      ],
      "metadata": {
        "id": "vtSJxrj-H4ET"
      },
      "id": "vtSJxrj-H4ET",
      "execution_count": null,
      "outputs": []
    },
    {
      "cell_type": "code",
      "source": [
        "z=np.array(['a','b','c'])"
      ],
      "metadata": {
        "id": "WrX4QXSLIVhR"
      },
      "id": "WrX4QXSLIVhR",
      "execution_count": null,
      "outputs": []
    },
    {
      "cell_type": "code",
      "source": [
        "z.dtype"
      ],
      "metadata": {
        "id": "Gw6bZg41Ibsm"
      },
      "id": "Gw6bZg41Ibsm",
      "execution_count": null,
      "outputs": []
    },
    {
      "cell_type": "code",
      "execution_count": null,
      "id": "e059b99c-69ba-4195-9602-10a037432f6b",
      "metadata": {
        "id": "e059b99c-69ba-4195-9602-10a037432f6b"
      },
      "outputs": [],
      "source": [
        "# Array attributes\n",
        "\n",
        "print('shape: ', x.shape, y.shape)\n",
        "print('size: ', x.size, y.size)\n",
        "print('type: ', x.dtype, y.dtype)\n",
        "print('ndim: ', x.ndim, y.ndim)"
      ]
    },
    {
      "cell_type": "markdown",
      "id": "e2580b1b-3ea3-4140-8f56-0aab755b5994",
      "metadata": {
        "id": "e2580b1b-3ea3-4140-8f56-0aab755b5994"
      },
      "source": [
        "Vectorization gives numpy a significant speed advantage. Looops over indices are handled by pre-compiled C-code in the background.\n",
        "\n",
        "To see the difference, let's compare addition using lists and numpy arrays."
      ]
    },
    {
      "cell_type": "code",
      "execution_count": null,
      "id": "2fe3e298-25e8-4302-9ba7-afb29afa4f0b",
      "metadata": {
        "id": "2fe3e298-25e8-4302-9ba7-afb29afa4f0b"
      },
      "outputs": [],
      "source": [
        "list1 = [i for i in range(1000)]\n",
        "list2 = [3*i for i in range(1000)]\n",
        "array1 = np.array(list1)\n",
        "array2 = np.array(list2)"
      ]
    },
    {
      "cell_type": "code",
      "execution_count": null,
      "id": "2a50d9b7-0d05-4ec7-92e8-ac688d7d80de",
      "metadata": {
        "id": "2a50d9b7-0d05-4ec7-92e8-ac688d7d80de"
      },
      "outputs": [],
      "source": [
        "%timeit -n 1_000 array1 - 2*array2;"
      ]
    },
    {
      "cell_type": "code",
      "execution_count": null,
      "id": "9e3e233a-37b2-4760-bf97-a1a27493f53e",
      "metadata": {
        "id": "9e3e233a-37b2-4760-bf97-a1a27493f53e"
      },
      "outputs": [],
      "source": [
        "%timeit -n 1_000 [x - 2*y for x, y in zip(list1, list2)]"
      ]
    },
    {
      "cell_type": "markdown",
      "id": "0fa2fa35-a0d7-4a35-94da-c7372232e2e0",
      "metadata": {
        "id": "0fa2fa35-a0d7-4a35-94da-c7372232e2e0"
      },
      "source": [
        "Very often we generate arrays that have a structure. For generating arrays that are in order and evenly spaced, it is useful to use the arange function in Numpy."
      ]
    },
    {
      "cell_type": "code",
      "execution_count": null,
      "id": "db0127be-5521-48c9-bbaa-9a34f4b9518b",
      "metadata": {
        "id": "db0127be-5521-48c9-bbaa-9a34f4b9518b"
      },
      "outputs": [],
      "source": [
        "z = np.arange(1, 2000,10)"
      ]
    },
    {
      "cell_type": "code",
      "source": [
        "z[-1]"
      ],
      "metadata": {
        "id": "Rd7Q-Ba7JFpK"
      },
      "id": "Rd7Q-Ba7JFpK",
      "execution_count": null,
      "outputs": []
    },
    {
      "cell_type": "markdown",
      "id": "a2a5a619-e434-4936-a78f-a8717a77b081",
      "metadata": {
        "id": "a2a5a619-e434-4936-a78f-a8717a77b081"
      },
      "source": [
        "You can prescribe the increment"
      ]
    },
    {
      "cell_type": "code",
      "execution_count": null,
      "id": "0a3a21ac-bd5d-45cd-abdc-81cfc42bf88f",
      "metadata": {
        "id": "0a3a21ac-bd5d-45cd-abdc-81cfc42bf88f"
      },
      "outputs": [],
      "source": [
        "np.arange(0, 3, 0.5)"
      ]
    },
    {
      "cell_type": "markdown",
      "id": "b5eea910-e087-4074-bf0f-18bad4414969",
      "metadata": {
        "id": "b5eea910-e087-4074-bf0f-18bad4414969"
      },
      "source": [
        "Sometimes we want to guarantee a start and end point for an array but still have evenly spaced elements. For instance, we may want an array that starts at -1, ends at 1, and has exactly 21 elements, or 20 grid cells. For this purpose you can use the function `np.linspace`."
      ]
    },
    {
      "cell_type": "code",
      "execution_count": null,
      "id": "5fac58b7-07cf-4713-bd9b-30703184c8b1",
      "metadata": {
        "id": "5fac58b7-07cf-4713-bd9b-30703184c8b1"
      },
      "outputs": [],
      "source": [
        "grid = np.linspace(-1, 1, 21)\n",
        "\n",
        "grid"
      ]
    },
    {
      "cell_type": "code",
      "source": [
        "another_grid = np.linspace(-1, 1, 20)\n"
      ],
      "metadata": {
        "id": "rriapDixKME9"
      },
      "id": "rriapDixKME9",
      "execution_count": null,
      "outputs": []
    },
    {
      "cell_type": "code",
      "execution_count": null,
      "id": "c3a2a968-e13a-48a6-833c-1890ef5fe021",
      "metadata": {
        "id": "c3a2a968-e13a-48a6-833c-1890ef5fe021"
      },
      "outputs": [],
      "source": [
        "np.linspace?"
      ]
    },
    {
      "cell_type": "markdown",
      "id": "979cc9a2-c53c-4904-9a5d-c6a264e9de56",
      "metadata": {
        "id": "979cc9a2-c53c-4904-9a5d-c6a264e9de56"
      },
      "source": [
        "Arithmetic operations work as in linear algebra. For example, operations between a scalar and an array are performed element-wise."
      ]
    },
    {
      "cell_type": "code",
      "execution_count": null,
      "id": "abcebe92-94ad-42f6-bac8-993d34c97c59",
      "metadata": {
        "id": "abcebe92-94ad-42f6-bac8-993d34c97c59"
      },
      "outputs": [],
      "source": [
        "2*grid"
      ]
    },
    {
      "cell_type": "code",
      "execution_count": null,
      "id": "c2dcdfb4-2528-4470-aab3-3c9e88c27ffd",
      "metadata": {
        "id": "c2dcdfb4-2528-4470-aab3-3c9e88c27ffd"
      },
      "outputs": [],
      "source": [
        "grid+another_grid"
      ]
    },
    {
      "cell_type": "markdown",
      "id": "b86d4e9f-844d-437a-83bb-2de0568a87f3",
      "metadata": {
        "id": "b86d4e9f-844d-437a-83bb-2de0568a87f3"
      },
      "source": [
        "Numpy has its own random package"
      ]
    },
    {
      "cell_type": "code",
      "execution_count": null,
      "id": "00e99365-7e8b-4565-b987-00bfca9b56af",
      "metadata": {
        "id": "00e99365-7e8b-4565-b987-00bfca9b56af"
      },
      "outputs": [],
      "source": [
        "x = np.random.rand(100)\n",
        "y = np.random.rand(100)"
      ]
    },
    {
      "cell_type": "code",
      "execution_count": null,
      "id": "5124e4aa-a38f-4afd-9dad-c865e771a119",
      "metadata": {
        "id": "5124e4aa-a38f-4afd-9dad-c865e771a119"
      },
      "outputs": [],
      "source": [
        "%%timeit -n 1_000\n",
        "for i in range(0, len(x)):\n",
        "    x[i] + y[i]"
      ]
    },
    {
      "cell_type": "code",
      "execution_count": null,
      "id": "661a5a46-0a7b-4ae9-9de9-5dc95b19a3b4",
      "metadata": {
        "id": "661a5a46-0a7b-4ae9-9de9-5dc95b19a3b4"
      },
      "outputs": [],
      "source": [
        "%%timeit -n 1_000\n",
        "x+y;"
      ]
    },
    {
      "cell_type": "markdown",
      "id": "236bec75-b423-4c3e-820a-ce25e611eeb4",
      "metadata": {
        "id": "236bec75-b423-4c3e-820a-ce25e611eeb4"
      },
      "source": [
        "Vectorization is much faster (arount 70 times).\n",
        "\n",
        "Such differences matter in modern data science and machine learning applications. A computation that runs for 2 weeks without vectorization can run in an afternoon with vectorization."
      ]
    },
    {
      "cell_type": "markdown",
      "id": "aa16d4a7-f6c2-41ab-8a78-0df3d36d2f0b",
      "metadata": {
        "tags": [],
        "id": "aa16d4a7-f6c2-41ab-8a78-0df3d36d2f0b"
      },
      "source": [
        "## Data handling"
      ]
    },
    {
      "cell_type": "markdown",
      "id": "b65acdad-ff65-4b3f-b1b5-01e3978fc2dd",
      "metadata": {
        "id": "b65acdad-ff65-4b3f-b1b5-01e3978fc2dd"
      },
      "source": [
        "Storing data and the results of your programming efforts is important for working over multiple sessions and sharing your results with collaborators. When Python closes, all the variables in the memory are lost, so data must be stored in the file system. "
      ]
    },
    {
      "cell_type": "markdown",
      "id": "595e06a9-032a-46ad-bbf0-bdad83e07b0b",
      "metadata": {
        "id": "595e06a9-032a-46ad-bbf0-bdad83e07b0b"
      },
      "source": [
        "To work with text files, we need to use open function which returns a file object. It is commonly used with two arguments:\n",
        "\n",
        "```\n",
        "f = open(filename, mode) \n",
        "```\n",
        "\n",
        "`f` is the returned file object. The filename is a string where the location of the file you want to open, and the mode is another string containing a few characters describing the way in which the file will be used, the common modes are:\n",
        "\n",
        "- ‘r’, this is the default mode, which opens a file for reading\n",
        "- ‘w’, this mode opens a file for writing, if the file does not exist, it creates a new file.\n",
        "- ‘a’, open a file in append mode, append data to end of file. If the file does not exist, it creates a new file.\n",
        "- ‘b’, open a file in binary mode.\n",
        "- ‘r+’, open a file (do not create) for reading and writing.\n",
        "- ‘w+’, open or create a file for writing and reading, discard existing contents.\n",
        "- ‘a+’, open or create file for reading and writing, and append data to end of file.\n"
      ]
    },
    {
      "cell_type": "markdown",
      "id": "3e4e748d-0163-42e8-8be1-0b97b7208929",
      "metadata": {
        "id": "3e4e748d-0163-42e8-8be1-0b97b7208929"
      },
      "source": [
        "Write into a file"
      ]
    },
    {
      "cell_type": "code",
      "execution_count": null,
      "id": "c3a8cb2e-68e3-4c3f-9be7-6434b06f6654",
      "metadata": {
        "id": "c3a8cb2e-68e3-4c3f-9be7-6434b06f6654"
      },
      "outputs": [],
      "source": [
        "f = open('test.txt', 'w')\n",
        "for i in range(5):\n",
        "    f.write(f\"This is line {i}\\n\")\n",
        "    \n",
        "f.close()"
      ]
    },
    {
      "cell_type": "markdown",
      "id": "c98796ca-9872-4659-a1ec-d64f0ee4958d",
      "metadata": {
        "id": "c98796ca-9872-4659-a1ec-d64f0ee4958d"
      },
      "source": [
        "Append into an existing file"
      ]
    },
    {
      "cell_type": "code",
      "execution_count": null,
      "id": "990429df-6a61-40cf-bde8-895085678cec",
      "metadata": {
        "id": "990429df-6a61-40cf-bde8-895085678cec"
      },
      "outputs": [],
      "source": [
        "f = open('text.txt', 'a')\n",
        "f.write(f\"This is another line\\n\")\n",
        "f.close()"
      ]
    },
    {
      "cell_type": "markdown",
      "id": "8f9c2a3d-1c9f-416a-96c5-84cbd391d4d2",
      "metadata": {
        "id": "8f9c2a3d-1c9f-416a-96c5-84cbd391d4d2"
      },
      "source": [
        "Read a file"
      ]
    },
    {
      "cell_type": "code",
      "execution_count": null,
      "id": "a2cef8f2-cb4c-42f9-8627-5e999859f731",
      "metadata": {
        "id": "a2cef8f2-cb4c-42f9-8627-5e999859f731"
      },
      "outputs": [],
      "source": [
        "f = open('./test.txt', 'r')\n",
        "content = f.read()\n",
        "f.close()\n",
        "print(content)"
      ]
    },
    {
      "cell_type": "markdown",
      "id": "8841af09-9b40-406e-97be-bd675696a4d4",
      "metadata": {
        "id": "8841af09-9b40-406e-97be-bd675696a4d4"
      },
      "source": [
        "Using this way, we could store all the lines in the file into one string variable, we could verify that variable content is a string."
      ]
    },
    {
      "cell_type": "code",
      "source": [
        "content[0]"
      ],
      "metadata": {
        "id": "X3I4btOUMPQD"
      },
      "id": "X3I4btOUMPQD",
      "execution_count": null,
      "outputs": []
    },
    {
      "cell_type": "code",
      "execution_count": null,
      "id": "a0dc5113-7242-4c96-b2ae-82af939e1882",
      "metadata": {
        "id": "a0dc5113-7242-4c96-b2ae-82af939e1882"
      },
      "outputs": [],
      "source": [
        "type(content)"
      ]
    },
    {
      "cell_type": "markdown",
      "id": "5635b373-b10d-4863-8cef-0e67c407e67b",
      "metadata": {
        "id": "5635b373-b10d-4863-8cef-0e67c407e67b"
      },
      "source": [
        "But sometimes we want to read in the contents in the files line by line and store it in a list. We could use `f.readlines()` to achieve this."
      ]
    },
    {
      "cell_type": "code",
      "execution_count": null,
      "id": "945f1825-69f1-4d65-8ad6-0bba3b6ff52a",
      "metadata": {
        "id": "945f1825-69f1-4d65-8ad6-0bba3b6ff52a"
      },
      "outputs": [],
      "source": [
        "f = open('./test.txt', 'r')\n",
        "contents = f.readlines()\n",
        "f.close()\n",
        "print(contents)\n",
        "print(type(contents))"
      ]
    },
    {
      "cell_type": "code",
      "source": [
        "contents[0]"
      ],
      "metadata": {
        "id": "Q1eCozXqMLAI"
      },
      "id": "Q1eCozXqMLAI",
      "execution_count": null,
      "outputs": []
    },
    {
      "cell_type": "markdown",
      "id": "e386e1c3-1099-4e9e-a593-3e11abece0c4",
      "metadata": {
        "id": "e386e1c3-1099-4e9e-a593-3e11abece0c4"
      },
      "source": [
        "When we work with numbers or arrays, we can use the numpy package to directly save/read an array."
      ]
    },
    {
      "cell_type": "code",
      "execution_count": null,
      "id": "2f78f5f9-55f9-4057-ba7a-05f1404976bb",
      "metadata": {
        "id": "2f78f5f9-55f9-4057-ba7a-05f1404976bb"
      },
      "outputs": [],
      "source": [
        "arr = np.array([[1.20, 2.20, 3.00], [4.14, 5.65, 6.42]])"
      ]
    },
    {
      "cell_type": "code",
      "source": [
        "\n",
        "np.savetxt?"
      ],
      "metadata": {
        "id": "COCrmEvOMaOq"
      },
      "id": "COCrmEvOMaOq",
      "execution_count": null,
      "outputs": []
    },
    {
      "cell_type": "code",
      "execution_count": null,
      "id": "ad10a4ef-6795-4b82-9ad7-fe2518e966bf",
      "metadata": {
        "id": "ad10a4ef-6795-4b82-9ad7-fe2518e966bf"
      },
      "outputs": [],
      "source": [
        "np.savetxt('my_arr.txt', arr, fmt='%.5f', header = 'Col1 Col2 Col3')"
      ]
    },
    {
      "cell_type": "markdown",
      "id": "2bc95587-f114-4af4-8800-c5d47a89d7f4",
      "metadata": {
        "id": "2bc95587-f114-4af4-8800-c5d47a89d7f4"
      },
      "source": [
        "The first argument is the file name, second argument is the arr object we save, and the third argument is the format for the output (‘%.2f’ indicates 2 decimals). The fourth argument is the header.\n",
        "\n",
        "We can load the array back into memory as follows."
      ]
    },
    {
      "cell_type": "code",
      "execution_count": null,
      "id": "c2649b19-1ffa-4fc3-9960-917cdad51aac",
      "metadata": {
        "id": "c2649b19-1ffa-4fc3-9960-917cdad51aac"
      },
      "outputs": [],
      "source": [
        "my_arr = np.loadtxt('my_arr.txt')"
      ]
    },
    {
      "cell_type": "code",
      "source": [
        "my_arr.dot(my_arr.T)"
      ],
      "metadata": {
        "id": "r9hgf6QLMucE"
      },
      "id": "r9hgf6QLMucE",
      "execution_count": null,
      "outputs": []
    },
    {
      "cell_type": "markdown",
      "id": "c1d401f4-93b1-4d58-9f3c-a1108c3c40e7",
      "metadata": {
        "id": "c1d401f4-93b1-4d58-9f3c-a1108c3c40e7"
      },
      "source": [
        "Scientific data are sometimes stored in the comma-separated values (CSV) file format, a delimited text file that uses a comma to separate values. It is a very useful format that can store large tables of data (numbers and text) in plain text. Each line (row) in the data is one data record, and each record consists of one or more fields, separated by commas. It also can be opened using Microsoft Excel.\n",
        "\n",
        "Python has its own csv module that could handle the reading and writing of the csv file, but we can also use numpy."
      ]
    },
    {
      "cell_type": "code",
      "execution_count": null,
      "id": "686d7b0f-8431-4088-ad04-1a8ddd3c20ce",
      "metadata": {
        "id": "686d7b0f-8431-4088-ad04-1a8ddd3c20ce"
      },
      "outputs": [],
      "source": [
        "data = np.random.random((100,5))\n",
        "np.savetxt('test.csv', data, fmt = '%.2f', delimiter=',', header = 'c1, c2, c3, c4, c5')"
      ]
    },
    {
      "cell_type": "markdown",
      "id": "b6d25c13-d45c-4ce5-9b49-72ba2548d9c2",
      "metadata": {
        "id": "b6d25c13-d45c-4ce5-9b49-72ba2548d9c2"
      },
      "source": [
        "Download data from an online csv file."
      ]
    },
    {
      "cell_type": "code",
      "execution_count": null,
      "id": "f9beefca-511f-4fb6-ade3-9811395c6dde",
      "metadata": {
        "id": "f9beefca-511f-4fb6-ade3-9811395c6dde"
      },
      "outputs": [],
      "source": [
        "import pandas as pd\n",
        "url = 'https://raw.githubusercontent.com/hsiav2000/simple-regression/master/Salary_Data.csv'\n",
        "data = pd.read_csv(url)"
      ]
    },
    {
      "cell_type": "code",
      "source": [
        "data"
      ],
      "metadata": {
        "id": "NmIau8e-NcMd"
      },
      "id": "NmIau8e-NcMd",
      "execution_count": null,
      "outputs": []
    },
    {
      "cell_type": "code",
      "execution_count": null,
      "id": "fa13c724-97bb-4c7b-960b-6b1898d83513",
      "metadata": {
        "id": "fa13c724-97bb-4c7b-960b-6b1898d83513"
      },
      "outputs": [],
      "source": [
        "data.plot.scatter(x='YearsExperience', y='Salary')"
      ]
    },
    {
      "cell_type": "markdown",
      "id": "95652125-49b5-4c51-87be-3bf0c09448ed",
      "metadata": {
        "jp-MarkdownHeadingCollapsed": true,
        "tags": [],
        "id": "95652125-49b5-4c51-87be-3bf0c09448ed"
      },
      "source": [
        "## Visualization"
      ]
    },
    {
      "cell_type": "markdown",
      "id": "9b32c0b4-44e0-4af2-b3fe-8d1f0e92211f",
      "metadata": {
        "id": "9b32c0b4-44e0-4af2-b3fe-8d1f0e92211f"
      },
      "source": [
        "Visualizing data is usually the best way to convey important engineering and science ideas and information, especially if the information is made up of many numbers. The ability to visualize and plot data quickly and in many different ways is one of Python’s most powerful features.\n",
        "\n",
        "Python has numerous graphics functions that enable you to efficiently display plots, surfaces, volumes, vector fields, histograms, animations, and many other data plots. The most common package for visualization in Python is [matplotlib](https://matplotlib.org/).\n",
        "\n",
        "Have a look at the [matplotlib gallery](https://matplotlib.org/stable/gallery/index.html) and get a sense of what could be done there. We'll cover the basic syntax for plotting here."
      ]
    },
    {
      "cell_type": "markdown",
      "id": "555db03e-32da-4088-9147-2ee1d8060442",
      "metadata": {
        "jp-MarkdownHeadingCollapsed": true,
        "tags": [],
        "id": "555db03e-32da-4088-9147-2ee1d8060442"
      },
      "source": [
        "### Basic plotting"
      ]
    },
    {
      "cell_type": "markdown",
      "id": "5ac860d7-8d85-4c90-abe1-f3cd3a44e0eb",
      "metadata": {
        "id": "5ac860d7-8d85-4c90-abe1-f3cd3a44e0eb"
      },
      "source": [
        "The matplotlib package is typically used as plt. Pyplot is a useful module within matplotlib for Jupyter notebooks. "
      ]
    },
    {
      "cell_type": "code",
      "execution_count": null,
      "id": "7f11eab6-c045-4569-8630-9e8436246a0e",
      "metadata": {
        "id": "7f11eab6-c045-4569-8630-9e8436246a0e"
      },
      "outputs": [],
      "source": [
        "import matplotlib.pyplot as plt"
      ]
    },
    {
      "cell_type": "markdown",
      "id": "66ff6a21-6094-4d0a-bb37-89672e5b2d6c",
      "metadata": {
        "id": "66ff6a21-6094-4d0a-bb37-89672e5b2d6c"
      },
      "source": [
        "Given the lists x = [0, 1, 2, 3] and y = [0, 1, 4, 9], use the plot function to produce a plot of x versus y."
      ]
    },
    {
      "cell_type": "code",
      "execution_count": null,
      "id": "0c8db28c-3c91-4b6b-a08a-f06298b48392",
      "metadata": {
        "id": "0c8db28c-3c91-4b6b-a08a-f06298b48392"
      },
      "outputs": [],
      "source": [
        "x = [0, 1, 2, 3] \n",
        "y = [0, 1, 4, 9]\n",
        "plt.plot(x, y)"
      ]
    },
    {
      "cell_type": "markdown",
      "id": "30186dc1-c0c6-4031-a98f-8ee12e4aff03",
      "metadata": {
        "id": "30186dc1-c0c6-4031-a98f-8ee12e4aff03"
      },
      "source": [
        "By default, each point is connected with a blue line. To make the function look smooth, use a finer grid for the x-axis.\n",
        "\n",
        "Let's plot the parabolic function $y = x^2$ on the domain $x\\in[-5,5]$."
      ]
    },
    {
      "cell_type": "code",
      "execution_count": null,
      "id": "8f1cd007-842f-4248-b4a5-cc569a6b237a",
      "metadata": {
        "id": "8f1cd007-842f-4248-b4a5-cc569a6b237a"
      },
      "outputs": [],
      "source": [
        "x = np.linspace(-5,5,100)\n",
        "y = x**2\n",
        "\n",
        "plt.plot(x,y)"
      ]
    },
    {
      "cell_type": "markdown",
      "id": "256ff58a-4556-44f0-b47a-3c661a88398d",
      "metadata": {
        "id": "256ff58a-4556-44f0-b47a-3c661a88398d"
      },
      "source": [
        "You can play around with various customizations. Plot the sine function with green dashed lines and a star marking data points."
      ]
    },
    {
      "cell_type": "code",
      "execution_count": null,
      "id": "781b39bf-3066-45e4-8f3f-dd539590ccd3",
      "metadata": {
        "id": "781b39bf-3066-45e4-8f3f-dd539590ccd3"
      },
      "outputs": [],
      "source": [
        "x = np.linspace(-np.pi, np.pi, 100)\n",
        "y = np.sin(x)"
      ]
    },
    {
      "cell_type": "code",
      "execution_count": null,
      "id": "829c3ccf-c0a6-4e19-80c1-c0e3981ccf87",
      "metadata": {
        "id": "829c3ccf-c0a6-4e19-80c1-c0e3981ccf87"
      },
      "outputs": [],
      "source": [
        "plt.plot(x[::10], y[::10],'g*--')"
      ]
    },
    {
      "cell_type": "markdown",
      "id": "1c7bfb7b-5107-4808-be6c-cfe5c33cd99f",
      "metadata": {
        "id": "1c7bfb7b-5107-4808-be6c-cfe5c33cd99f"
      },
      "source": [
        "You can chose predefined styles for your plots."
      ]
    },
    {
      "cell_type": "code",
      "execution_count": null,
      "id": "d0f2ddc6-1462-44c4-acda-94044d01a61b",
      "metadata": {
        "id": "d0f2ddc6-1462-44c4-acda-94044d01a61b"
      },
      "outputs": [],
      "source": [
        "print(plt.style.available)\n",
        "# plt.style.use('seaborn-paper')"
      ]
    },
    {
      "cell_type": "code",
      "execution_count": null,
      "id": "765d694e-4d07-43b2-9ccc-2263c7c23f3d",
      "metadata": {
        "id": "765d694e-4d07-43b2-9ccc-2263c7c23f3d"
      },
      "outputs": [],
      "source": [
        "plt.plot(x,np.sin(x), color='tab:blue',  linestyle='--', linewidth=2, label=r'$\\sin x$')\n",
        "plt.plot(x,np.cos(x), color='tab:orange', linestyle='-.',linewidth=6, label=r'$\\cos x$')\n",
        "plt.title('Phase-shifted waves')\n",
        "plt.xlabel('x')\n",
        "plt.ylabel('y')\n",
        "plt.grid(True)\n",
        "plt.legend(loc='lower right')\n",
        "plt.ylim(-1,1)\n",
        "plt.xlim(-2,2);"
      ]
    },
    {
      "cell_type": "markdown",
      "id": "64481ca8-75a3-4680-a640-a425bb93aa84",
      "metadata": {
        "id": "64481ca8-75a3-4680-a640-a425bb93aa84"
      },
      "source": [
        "Scatter plots work exactly the same as regular plots above except they have default behavior where the dots are not connected."
      ]
    },
    {
      "cell_type": "code",
      "execution_count": null,
      "id": "3e1f4814-f78d-43ec-a899-d48bfcfbbd5c",
      "metadata": {
        "id": "3e1f4814-f78d-43ec-a899-d48bfcfbbd5c"
      },
      "outputs": [],
      "source": [
        "# Generate 20, normally distributed, random points\n",
        "x, y = np.random.randn(2, 20)\n",
        "\n",
        "plt.scatter(x, y)"
      ]
    },
    {
      "cell_type": "code",
      "execution_count": null,
      "id": "73acd86f-c21d-4ae8-ad07-0cc134524126",
      "metadata": {
        "id": "73acd86f-c21d-4ae8-ad07-0cc134524126"
      },
      "outputs": [],
      "source": [
        "plt.plot(x, y,'o', color='tab:blue')"
      ]
    },
    {
      "cell_type": "markdown",
      "id": "d31b86a4-690b-4911-8b36-eeeea02c240b",
      "metadata": {
        "id": "d31b86a4-690b-4911-8b36-eeeea02c240b"
      },
      "source": [
        "Data points with a linear relationship"
      ]
    },
    {
      "cell_type": "code",
      "execution_count": null,
      "id": "07d00b9d-04fe-4885-a4c7-d958cbefdb16",
      "metadata": {
        "id": "07d00b9d-04fe-4885-a4c7-d958cbefdb16"
      },
      "outputs": [],
      "source": [
        "x = np.arange(100)\n",
        "delta = np.random.poisson(40, size=100)\n",
        "\n",
        "y = 0.8*x + 5 + delta\n",
        "\n",
        "plt.scatter(x, y)"
      ]
    },
    {
      "cell_type": "markdown",
      "id": "822b4403-6a1d-4ecb-bf12-59c08163da9d",
      "metadata": {
        "id": "822b4403-6a1d-4ecb-bf12-59c08163da9d"
      },
      "source": [
        "There are several other plotting functions that plot x versus y data. Some of them are `bar`, `loglog`, `semilogx`, and `semilogy`.  The bar function plots bars centered at x with height y. The loglog, semilogx, and semilogy functions plot the data in x and y with the x and y axis on a log scale, the x axis on a log scale and the y axis on a linear scale, and the y axis on a log scale and the x axis on a linear scale, respectively."
      ]
    },
    {
      "cell_type": "code",
      "execution_count": null,
      "id": "71369a8b-968c-4ee6-9b47-a6e79f053278",
      "metadata": {
        "id": "71369a8b-968c-4ee6-9b47-a6e79f053278"
      },
      "outputs": [],
      "source": [
        "x = np.arange(11)\n",
        "y = x**2\n",
        "\n",
        "plt.figure(figsize = (14, 8))\n",
        "\n",
        "plt.subplot(2, 3, 1)\n",
        "plt.plot(x,y)\n",
        "plt.title('Plot')\n",
        "plt.xlabel('X')\n",
        "plt.ylabel('Y')\n",
        "plt.grid()\n",
        "\n",
        "plt.subplot(2, 3, 2)\n",
        "plt.scatter(x,y)\n",
        "plt.title('Scatter')\n",
        "plt.xlabel('X')\n",
        "plt.ylabel('Y')\n",
        "plt.grid()\n",
        "\n",
        "plt.subplot(2, 3, 3)\n",
        "plt.bar(x,y)\n",
        "plt.title('Bar')\n",
        "plt.xlabel('X')\n",
        "plt.ylabel('Y')\n",
        "plt.grid()\n",
        "\n",
        "plt.subplot(2, 3, 4)\n",
        "plt.loglog(x,y)\n",
        "plt.title('Loglog')\n",
        "plt.xlabel('X')\n",
        "plt.ylabel('Y')\n",
        "plt.grid(which='both')\n",
        "\n",
        "plt.subplot(2, 3, 5)\n",
        "plt.semilogx(x,y)\n",
        "plt.title('Semilogx')\n",
        "plt.xlabel('X')\n",
        "plt.ylabel('Y')\n",
        "plt.grid(which='both')\n",
        "\n",
        "plt.subplot(2, 3, 6)\n",
        "plt.semilogy(x,y)\n",
        "plt.title('Semilogy')\n",
        "plt.xlabel('X')\n",
        "plt.ylabel('Y')\n",
        "plt.grid()\n",
        "\n",
        "plt.tight_layout()\n"
      ]
    },
    {
      "cell_type": "markdown",
      "id": "3dd9f8c8-441f-46ca-825c-7b05a2f7eb6c",
      "metadata": {
        "id": "3dd9f8c8-441f-46ca-825c-7b05a2f7eb6c"
      },
      "source": [
        "The statement `plt.tight_layout` ensures that the sub-figures not overlap with each other."
      ]
    },
    {
      "cell_type": "markdown",
      "id": "3acedf2e-ed28-4048-8016-35935c7d11ac",
      "metadata": {
        "id": "3acedf2e-ed28-4048-8016-35935c7d11ac"
      },
      "source": [
        "Sometimes, you want to save the figures in a specific format, such as pdf, jpeg, png, and so on. You can do this with the function plt.savefig."
      ]
    },
    {
      "cell_type": "code",
      "execution_count": null,
      "id": "e3f26c4f-6a54-4cc8-a013-19591c8fbf3e",
      "metadata": {
        "id": "e3f26c4f-6a54-4cc8-a013-19591c8fbf3e"
      },
      "outputs": [],
      "source": [
        "plt.figure(figsize = (8,6))\n",
        "plt.plot(x,y)\n",
        "plt.xlabel('x')\n",
        "plt.ylabel('y')\n",
        "plt.savefig('image.pdf')"
      ]
    },
    {
      "cell_type": "markdown",
      "metadata": {
        "id": "e5709a9f-cdd3-4772-ade9-9a37dd3883ad"
      },
      "source": [
        "Data points with a linear relationship"
      ],
      "id": "e5709a9f-cdd3-4772-ade9-9a37dd3883ad"
    },
    {
      "cell_type": "code",
      "execution_count": null,
      "metadata": {
        "id": "9b56fb4e-2c8f-4567-bd6a-109a016e4bea"
      },
      "outputs": [],
      "source": [
        "x = np.arange(100)\n",
        "delta = np.random.poisson(40, size=100)\n",
        "\n",
        "y = 0.8*x + 5 + delta\n",
        "\n",
        "plt.scatter(x, y)"
      ],
      "id": "9b56fb4e-2c8f-4567-bd6a-109a016e4bea"
    },
    {
      "cell_type": "markdown",
      "id": "28f24459-ef37-4d68-a032-265105146d41",
      "metadata": {
        "jp-MarkdownHeadingCollapsed": true,
        "tags": [],
        "id": "28f24459-ef37-4d68-a032-265105146d41"
      },
      "source": [
        "### \"Object-oriented\" plotting\n",
        "\n",
        "> Indented block\n",
        "\n"
      ]
    },
    {
      "cell_type": "markdown",
      "id": "22145fc6-b922-4b52-827b-d495e3ef6fad",
      "metadata": {
        "id": "22145fc6-b922-4b52-827b-d495e3ef6fad"
      },
      "source": [
        "So far, we used the procedural interface to make plots. You can get more granular control of yor plot by using the object-oriented interface.\n",
        "\n",
        "You start the plot with the figure object."
      ]
    },
    {
      "cell_type": "code",
      "execution_count": null,
      "id": "8a180a14-c47f-476d-9a34-ee180345eba8",
      "metadata": {
        "id": "8a180a14-c47f-476d-9a34-ee180345eba8"
      },
      "outputs": [],
      "source": [
        "fig = plt.figure()"
      ]
    },
    {
      "cell_type": "code",
      "execution_count": null,
      "id": "731e4b90-6fb8-4c31-a6d0-5ec698254187",
      "metadata": {
        "id": "731e4b90-6fb8-4c31-a6d0-5ec698254187"
      },
      "outputs": [],
      "source": [
        "type(fig)"
      ]
    },
    {
      "cell_type": "code",
      "execution_count": null,
      "id": "12d79f93-d979-4906-9abd-3af26d22fe0d",
      "metadata": {
        "id": "12d79f93-d979-4906-9abd-3af26d22fe0d"
      },
      "outputs": [],
      "source": [
        "fig = plt.figure()\n",
        "ax = fig.add_subplot(1,1,1,)\n",
        "# Set the title of plot\n",
        "ax.set_title(\"Empty plot\")"
      ]
    },
    {
      "cell_type": "code",
      "execution_count": null,
      "id": "383b004b-c4e2-456f-b39a-2de686f3ab99",
      "metadata": {
        "id": "383b004b-c4e2-456f-b39a-2de686f3ab99"
      },
      "outputs": [],
      "source": [
        "fig = plt.figure()\n",
        "\n",
        "# Generate a grid of 2x2 subplots\n",
        "# Axes object for 1st location\n",
        "ax1 = fig.add_subplot(2,2,1)\n",
        "ax1.set_title('First Location')\n",
        "\n",
        "# Axes object for 2nd location\n",
        "ax2 = fig.add_subplot(2,2,2)\n",
        "ax2.set_title('Second Location')\n",
        "\n",
        "# Axes object for 3rd location\n",
        "ax3 = fig.add_subplot(2,2,3)\n",
        "ax3.set_xlabel('Third Location')\n",
        "\n",
        "# Axes object for 4th location\n",
        "ax4 = fig.add_subplot(2,2,4)\n",
        "ax4.set_xlabel('Fourth Location')\n",
        "\n",
        "# Nice layout and display\n",
        "plt.tight_layout()\n",
        "plt.show()"
      ]
    },
    {
      "cell_type": "code",
      "execution_count": null,
      "id": "4321cd00-b232-4f38-ab5e-154585beb2e6",
      "metadata": {
        "id": "4321cd00-b232-4f38-ab5e-154585beb2e6"
      },
      "outputs": [],
      "source": [
        "fig, ((ax1, ax2), (ax3, ax4)) = plt.subplots(2, 2)\n",
        "ax1.set_title('First Location')\n",
        "ax2.set_title('Second Location')\n",
        "ax3.set_xlabel('Third Location')\n",
        "ax4.set_xlabel('Fourth Location')\n",
        "plt.tight_layout()"
      ]
    },
    {
      "cell_type": "code",
      "execution_count": null,
      "id": "a2011af2-6384-42e6-a49d-f388811246e5",
      "metadata": {
        "id": "a2011af2-6384-42e6-a49d-f388811246e5"
      },
      "outputs": [],
      "source": [
        "# Import ticker to control tick labels and positions\n",
        "import matplotlib.ticker as tck\n",
        "\n",
        "# Generate the x-axes grid\n",
        "x = np.linspace(-np.pi, np.pi, 100, endpoint=True)\n",
        "\n",
        "# Figure\n",
        "fig, (ax1, ax2, ax3) = plt.subplots(3, 1, sharex=True)\n",
        "fig.set_dpi(100)\n",
        "fig.set_size_inches(10,6)\n",
        "\n",
        "# First plot - sine\n",
        "ax1.plot(x, np.sin(x))\n",
        "ax1.set_title(\"sin\")\n",
        "ax1.set_ylabel(\"y\")\n",
        "\n",
        "# Second plot - cosine\n",
        "ax2.plot(x, np.cos(x))\n",
        "ax2.set_title(\"cos\")\n",
        "ax2.set_ylabel(\"y\")\n",
        "\n",
        "# Third plot - tangens\n",
        "ax3.plot(x, np.tan(x))\n",
        "ax3.set_title(\"tan\")\n",
        "ax3.set_ylabel(\"y\")\n",
        "ax3.set_xlabel(\"x\")\n",
        "\n",
        "# Set ticks for the shared axes on the bottom of the plot\n",
        "x_ticks = np.arange(-np.pi,np.pi+np.pi/2,step=(np.pi/2))\n",
        "ax3.set_xticks(x_ticks, [r'$-\\pi$', r'$-\\frac{\\pi}{2}$', r'$0$', r'$\\frac{\\pi}{2}$', r'$\\pi$'])\n",
        "\n",
        "plt.tight_layout()"
      ]
    },
    {
      "cell_type": "markdown",
      "id": "76ee8d10-5794-4f63-9f8b-ebd5196f3723",
      "metadata": {
        "tags": [],
        "id": "76ee8d10-5794-4f63-9f8b-ebd5196f3723"
      },
      "source": [
        "# Exercises"
      ]
    },
    {
      "cell_type": "markdown",
      "id": "42d35404-2346-4416-826c-af768e2a6012",
      "metadata": {
        "id": "42d35404-2346-4416-826c-af768e2a6012"
      },
      "source": [
        "1. Check if ‘Python’ is in the string ‘Python is great!’.\n",
        "1. Get the last word ‘great’ from ‘Python is great!’\n",
        "1. Turn ‘Python is great!’ to a list.\n",
        "1. Compute sin(87°).\n",
        "1. Write a Python statement that generates the following error:\n",
        "    \"TypeError: math.sin() takes exactly one argument (0 given)\"\n",
        "1. Compute the surface area and volume of a cylinder from given radius and height. Make it a function.\n",
        "1. Compute the slope between two points $p1=(x_1,y_1)$ and $p_2=(x_2,y_2)$. Recall that the slope between two such points is \n",
        "$ \\frac{y_2−y_1}{x_2−x_1}$. Make it a function.\n",
        "1. Compute the distance between two points as above. Recall that the distance between points in two dimensions is $\\sqrt{(x_2−x_1)^2+(y_2-y_1)^2}$. Make it a function.\n",
        "1. Generate an array with size 100 evenly spaced between -10 to 10.\n",
        "1. Consider a triangle with vertices at (0,0), (1,0), and (0,1). Write a function `my_inside_triangle(x,y)` where the output is the string 'outside' if the point (x,y) is outside of the triangle, 'border' if the point is exactly on the border of the triangle, and 'inside' if the point is on the inside of the triangle.\n",
        "1. Plot the functions $y_1(x)=3+e^{−𝑥}\\sin(6 x)$ and $y_2(x)=4+e^{-x} \\cos(6x)$ for $0\\leq x \\leq 5$ on a single axis. Give the plot axis labels, a title, and a legend.\n",
        "1. A cycloid is the curve traced by a point located on the edge of a wheel rolling along a flat surface. The $(x,y)$ coordinates of a cycloid generated from a wheel with radius, $r$, can be described by the parametric equations:\n",
        "$$ x = r (\\phi - \\sin \\phi), \\qquad  y = r (1-\\cos\\phi) $$\n",
        "where $\\phi$ is the number in radians that the wheel has rolled through. Generate a plot of the cycloid for $\\phi \\in [0,2\\pi]$ using 1000 increments and $r=3$. Give your plot a title and labels. Turn the grid on and modify the axis limits to make the plot neat.\n",
        "1. Generate 1000 normally distributed random numbers using the `np.random.randn` function. Use the `plt.hist` function to plot a histogram of the randomly generated numbers. Use the `plt.hist` function to distribute the randomly generated numbers into 10 bins. Create a bar graph of output of hist using the `plt.bar` function. It should look very similar to the plot produced by `plt.hist`."
      ]
    }
  ],
  "metadata": {
    "kernelspec": {
      "display_name": "Python 3 (ipykernel)",
      "language": "python",
      "name": "python3"
    },
    "language_info": {
      "codemirror_mode": {
        "name": "ipython",
        "version": 3
      },
      "file_extension": ".py",
      "mimetype": "text/x-python",
      "name": "python",
      "nbconvert_exporter": "python",
      "pygments_lexer": "ipython3",
      "version": "3.10.4"
    },
    "colab": {
      "name": "Copy of IntroToPython.ipynb",
      "provenance": [],
      "collapsed_sections": [
        "c48d3dbf-14b6-43d9-8eb4-528a67910b0c",
        "a79f7c40-b405-43be-8b03-04b1a32e447f",
        "30f69686-a931-4d33-9fa0-7b420c973505",
        "35aa4aed-5f7c-4ddc-8b29-1f33e177154c",
        "c3e99215-db81-41e2-9b00-2885b41cfb35",
        "7a880aaa-5ffb-4939-83ff-b43a2267124f",
        "c3c05913-a0f0-4285-9a78-62bb9f70efbd",
        "aa16d4a7-f6c2-41ab-8a78-0df3d36d2f0b",
        "95652125-49b5-4c51-87be-3bf0c09448ed",
        "555db03e-32da-4088-9147-2ee1d8060442",
        "28f24459-ef37-4d68-a032-265105146d41",
        "76ee8d10-5794-4f63-9f8b-ebd5196f3723"
      ],
      "include_colab_link": true
    }
  },
  "nbformat": 4,
  "nbformat_minor": 5
}